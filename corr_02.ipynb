{
 "cells": [
  {
   "cell_type": "markdown",
   "metadata": {},
   "source": [
    "<div style=\"border:solid Chocolate 2px; padding: 40px\">\n",
    "\n",
    "<b>Привет!👋</b>\n",
    "\n",
    "Меня зовут Роман Абрамов, я буду ревьюером твоего проекта. Ты можешь обращаться ко мне на \"ты\"😏 Надеюсь, тебя также не смутит, если я буду обращаться к тебе на \"ты\", но если это неудобно, обязательно скажи об этом!\n",
    "\n",
    "Пожалуйста, не удаляй мои комментарии, они будут особенно полезны для нашей работы в случае повторной проверки проекта.\n",
    "\n",
    "Ты также можешь реагировать на мои комментарии своими, выделяя их цветами и наиболее понравившимся тебе способом оформления, но явно  отличающимся от моих комментариев. Это нужно, чтобы не создавалась путаница😉\n",
    "\n",
    "Ты можешь найти мои комментарии, обозначенные <font color='green'>зеленым</font>, <font color='gold'>желтым</font> и <font color='red'>красным</font> цветами, например:\n",
    "\n",
    "<br/>\n",
    "\n",
    "<div class=\"alert alert-success\">\n",
    "<h2> Комментарий ревьюера <a class=\"tocSkip\"> </h2>\n",
    "\n",
    "<b>Все отлично!👍:</b> В случае, если решение на отдельном шаге является полностью правильным.\n",
    "</div>\n",
    "\n",
    "<br/>\n",
    "\n",
    "<div class=\"alert alert-warning\">\n",
    "    <h2> Комментарий ревьюера <a class=\"tocSkip\"> </h2>\n",
    "\n",
    "<b>Некоторые замечания и рекомендации💡:</b> В случае, когда решение на отдельном шаге станет еще лучше, если внести небольшие коррективы. Желтые замечания и рекомендации необязательны к исправлению - на то это и рекомендации. Они больше ориентированы на улучшение твоих навыков\n",
    "</div>\n",
    "\n",
    "\n",
    "<br/>\n",
    "<div class=\"alert alert-block alert-danger\">\n",
    "<h2> Комментарий ревьюера <a class=\"tocSkip\"></h2>\n",
    "\n",
    "\n",
    "<b>На доработку🤔:</b>\n",
    " В случае, когда решение на отдельном шаге требует существенной переработки и внесения правок. Напоминаю, что проект не может быть принят с первого раза, если ревью содержит комментарии, рекомендующие доработать шаги.\n",
    "</div>\n",
    "\n",
    "Увидев у тебя неточность, в первый раз я лишь укажу на ее наличие и дам тебе возможность самому найти и исправить ее. На реальной работе твой руководитель будет поступать также. Но если ты пока не справишься с такой задачей - при следующей проверке я дам более точную подсказку!🤓"
   ]
  },
  {
   "cell_type": "markdown",
   "metadata": {},
   "source": [
    "# Определение стоимости автомобилей"
   ]
  },
  {
   "cell_type": "markdown",
   "metadata": {},
   "source": [
    "Сервис по продаже автомобилей с пробегом «Не бит, не крашен» разрабатывает приложение для привлечения новых клиентов. В нём можно быстро узнать рыночную стоимость своего автомобиля. В вашем распоряжении исторические данные: технические характеристики, комплектации и цены автомобилей. Вам нужно построить модель для определения стоимости. \n",
    "\n",
    "Заказчику важны:\n",
    "\n",
    "- качество предсказания;\n",
    "- скорость предсказания;\n",
    "- время обучения."
   ]
  },
  {
   "cell_type": "markdown",
   "metadata": {},
   "source": [
    "## Подготовка данных"
   ]
  },
  {
   "cell_type": "code",
   "execution_count": 1,
   "metadata": {},
   "outputs": [
    {
     "name": "stdout",
     "output_type": "stream",
     "text": [
      "Requirement already satisfied: catboost in c:\\prog\\kwork\\corrds\\env\\lib\\site-packages (1.0.6)\n",
      "Requirement already satisfied: numpy>=1.16.0 in c:\\prog\\kwork\\corrds\\env\\lib\\site-packages (from catboost) (1.22.3)\n",
      "Requirement already satisfied: pandas>=0.24.0 in c:\\prog\\kwork\\corrds\\env\\lib\\site-packages (from catboost) (1.4.2)\n",
      "Requirement already satisfied: matplotlib in c:\\prog\\kwork\\corrds\\env\\lib\\site-packages (from catboost) (3.5.1)\n",
      "Requirement already satisfied: scipy in c:\\prog\\kwork\\corrds\\env\\lib\\site-packages (from catboost) (1.8.0)\n",
      "Requirement already satisfied: six in c:\\prog\\kwork\\corrds\\env\\lib\\site-packages (from catboost) (1.16.0)\n",
      "Requirement already satisfied: plotly in c:\\prog\\kwork\\corrds\\env\\lib\\site-packages (from catboost) (5.9.0)\n",
      "Requirement already satisfied: graphviz in c:\\prog\\kwork\\corrds\\env\\lib\\site-packages (from catboost) (0.20)\n",
      "Requirement already satisfied: pytz>=2020.1 in c:\\prog\\kwork\\corrds\\env\\lib\\site-packages (from pandas>=0.24.0->catboost) (2022.1)\n",
      "Requirement already satisfied: python-dateutil>=2.8.1 in c:\\prog\\kwork\\corrds\\env\\lib\\site-packages (from pandas>=0.24.0->catboost) (2.8.2)\n",
      "Requirement already satisfied: packaging>=20.0 in c:\\prog\\kwork\\corrds\\env\\lib\\site-packages (from matplotlib->catboost) (21.3)\n",
      "Requirement already satisfied: cycler>=0.10 in c:\\prog\\kwork\\corrds\\env\\lib\\site-packages (from matplotlib->catboost) (0.11.0)\n",
      "Requirement already satisfied: pyparsing>=2.2.1 in c:\\prog\\kwork\\corrds\\env\\lib\\site-packages (from matplotlib->catboost) (3.0.8)\n",
      "Requirement already satisfied: pillow>=6.2.0 in c:\\prog\\kwork\\corrds\\env\\lib\\site-packages (from matplotlib->catboost) (9.1.0)\n",
      "Requirement already satisfied: fonttools>=4.22.0 in c:\\prog\\kwork\\corrds\\env\\lib\\site-packages (from matplotlib->catboost) (4.32.0)\n",
      "Requirement already satisfied: kiwisolver>=1.0.1 in c:\\prog\\kwork\\corrds\\env\\lib\\site-packages (from matplotlib->catboost) (1.4.2)\n",
      "Requirement already satisfied: tenacity>=6.2.0 in c:\\prog\\kwork\\corrds\\env\\lib\\site-packages (from plotly->catboost) (8.0.1)\n"
     ]
    },
    {
     "name": "stderr",
     "output_type": "stream",
     "text": [
      "WARNING: You are using pip version 22.0.4; however, version 22.1.2 is available.\n",
      "You should consider upgrading via the 'C:\\Prog\\kwork\\CorrDS\\env\\Scripts\\python.exe -m pip install --upgrade pip' command.\n"
     ]
    }
   ],
   "source": [
    "!pip install catboost"
   ]
  },
  {
   "cell_type": "code",
   "execution_count": 2,
   "metadata": {},
   "outputs": [
    {
     "name": "stdout",
     "output_type": "stream",
     "text": [
      "Requirement already satisfied: lightgbm in c:\\prog\\kwork\\corrds\\env\\lib\\site-packages (3.3.2)\n",
      "Requirement already satisfied: scipy in c:\\prog\\kwork\\corrds\\env\\lib\\site-packages (from lightgbm) (1.8.0)\n",
      "Requirement already satisfied: scikit-learn!=0.22.0 in c:\\prog\\kwork\\corrds\\env\\lib\\site-packages (from lightgbm) (1.1.1)\n",
      "Requirement already satisfied: wheel in c:\\prog\\kwork\\corrds\\env\\lib\\site-packages (from lightgbm) (0.37.1)\n",
      "Requirement already satisfied: numpy in c:\\prog\\kwork\\corrds\\env\\lib\\site-packages (from lightgbm) (1.22.3)\n",
      "Requirement already satisfied: threadpoolctl>=2.0.0 in c:\\prog\\kwork\\corrds\\env\\lib\\site-packages (from scikit-learn!=0.22.0->lightgbm) (3.1.0)\n",
      "Requirement already satisfied: joblib>=1.0.0 in c:\\prog\\kwork\\corrds\\env\\lib\\site-packages (from scikit-learn!=0.22.0->lightgbm) (1.1.0)\n"
     ]
    },
    {
     "name": "stderr",
     "output_type": "stream",
     "text": [
      "WARNING: You are using pip version 22.0.4; however, version 22.1.2 is available.\n",
      "You should consider upgrading via the 'C:\\Prog\\kwork\\CorrDS\\env\\Scripts\\python.exe -m pip install --upgrade pip' command.\n"
     ]
    }
   ],
   "source": [
    "!pip install lightgbm"
   ]
  },
  {
   "cell_type": "code",
   "execution_count": 3,
   "metadata": {},
   "outputs": [],
   "source": [
    "# Блок импорта\n",
    "import pandas as pd\n",
    "import numpy as np\n",
    "import matplotlib.pyplot as plt\n",
    "import math\n",
    "\n",
    "# Простые модели, на которых будем проверять\n",
    "from sklearn.tree import DecisionTreeRegressor\n",
    "from sklearn.ensemble import RandomForestRegressor\n",
    "from sklearn.linear_model import LinearRegression\n",
    "from sklearn.dummy import DummyRegressor\n",
    "\n",
    "# Возможный бонус\n",
    "from sklearn.linear_model import Ridge\n",
    "\n",
    "# Вспомогательные методы\n",
    "from sklearn.model_selection import train_test_split\n",
    "from sklearn.model_selection import GridSearchCV\n",
    "from sklearn.preprocessing import OneHotEncoder\n",
    "from sklearn.preprocessing import StandardScaler\n",
    "from sklearn.preprocessing import OrdinalEncoder\n",
    "from sklearn.preprocessing import LabelEncoder\n",
    "from sklearn.base import BaseEstimator\n",
    "from sklearn.metrics import mean_squared_error as mse\n",
    "from sklearn.metrics import  make_scorer\n",
    "from sklearn.pipeline import Pipeline\n",
    "from sklearn.compose import make_column_transformer\n",
    "\n",
    "# буст\n",
    "from catboost import CatBoostRegressor\n",
    "from lightgbm import LGBMRegressor\n",
    "import lightgbm as lgb"
   ]
  },
  {
   "cell_type": "markdown",
   "metadata": {},
   "source": [
    "<div class=\"alert alert-success\">\n",
    "<h2> Комментарий ревьюера <a class=\"tocSkip\"> </h2>\n",
    "\n",
    "<b>Все отлично!👍:</b> \n",
    "    \n",
    "Плюс за структуризацию импортов"
   ]
  },
  {
   "cell_type": "code",
   "execution_count": 4,
   "metadata": {},
   "outputs": [
    {
     "data": {
      "text/html": [
       "<div>\n",
       "<style scoped>\n",
       "    .dataframe tbody tr th:only-of-type {\n",
       "        vertical-align: middle;\n",
       "    }\n",
       "\n",
       "    .dataframe tbody tr th {\n",
       "        vertical-align: top;\n",
       "    }\n",
       "\n",
       "    .dataframe thead th {\n",
       "        text-align: right;\n",
       "    }\n",
       "</style>\n",
       "<table border=\"1\" class=\"dataframe\">\n",
       "  <thead>\n",
       "    <tr style=\"text-align: right;\">\n",
       "      <th></th>\n",
       "      <th>DateCrawled</th>\n",
       "      <th>Price</th>\n",
       "      <th>VehicleType</th>\n",
       "      <th>RegistrationYear</th>\n",
       "      <th>Gearbox</th>\n",
       "      <th>Power</th>\n",
       "      <th>Model</th>\n",
       "      <th>Kilometer</th>\n",
       "      <th>RegistrationMonth</th>\n",
       "      <th>FuelType</th>\n",
       "      <th>Brand</th>\n",
       "      <th>NotRepaired</th>\n",
       "      <th>DateCreated</th>\n",
       "      <th>NumberOfPictures</th>\n",
       "      <th>PostalCode</th>\n",
       "      <th>LastSeen</th>\n",
       "    </tr>\n",
       "  </thead>\n",
       "  <tbody>\n",
       "    <tr>\n",
       "      <th>0</th>\n",
       "      <td>2016-03-24 11:52:17</td>\n",
       "      <td>480</td>\n",
       "      <td>NaN</td>\n",
       "      <td>1993</td>\n",
       "      <td>manual</td>\n",
       "      <td>0</td>\n",
       "      <td>golf</td>\n",
       "      <td>150000</td>\n",
       "      <td>0</td>\n",
       "      <td>petrol</td>\n",
       "      <td>volkswagen</td>\n",
       "      <td>NaN</td>\n",
       "      <td>2016-03-24 00:00:00</td>\n",
       "      <td>0</td>\n",
       "      <td>70435</td>\n",
       "      <td>2016-04-07 03:16:57</td>\n",
       "    </tr>\n",
       "    <tr>\n",
       "      <th>1</th>\n",
       "      <td>2016-03-24 10:58:45</td>\n",
       "      <td>18300</td>\n",
       "      <td>coupe</td>\n",
       "      <td>2011</td>\n",
       "      <td>manual</td>\n",
       "      <td>190</td>\n",
       "      <td>NaN</td>\n",
       "      <td>125000</td>\n",
       "      <td>5</td>\n",
       "      <td>gasoline</td>\n",
       "      <td>audi</td>\n",
       "      <td>yes</td>\n",
       "      <td>2016-03-24 00:00:00</td>\n",
       "      <td>0</td>\n",
       "      <td>66954</td>\n",
       "      <td>2016-04-07 01:46:50</td>\n",
       "    </tr>\n",
       "    <tr>\n",
       "      <th>2</th>\n",
       "      <td>2016-03-14 12:52:21</td>\n",
       "      <td>9800</td>\n",
       "      <td>suv</td>\n",
       "      <td>2004</td>\n",
       "      <td>auto</td>\n",
       "      <td>163</td>\n",
       "      <td>grand</td>\n",
       "      <td>125000</td>\n",
       "      <td>8</td>\n",
       "      <td>gasoline</td>\n",
       "      <td>jeep</td>\n",
       "      <td>NaN</td>\n",
       "      <td>2016-03-14 00:00:00</td>\n",
       "      <td>0</td>\n",
       "      <td>90480</td>\n",
       "      <td>2016-04-05 12:47:46</td>\n",
       "    </tr>\n",
       "    <tr>\n",
       "      <th>3</th>\n",
       "      <td>2016-03-17 16:54:04</td>\n",
       "      <td>1500</td>\n",
       "      <td>small</td>\n",
       "      <td>2001</td>\n",
       "      <td>manual</td>\n",
       "      <td>75</td>\n",
       "      <td>golf</td>\n",
       "      <td>150000</td>\n",
       "      <td>6</td>\n",
       "      <td>petrol</td>\n",
       "      <td>volkswagen</td>\n",
       "      <td>no</td>\n",
       "      <td>2016-03-17 00:00:00</td>\n",
       "      <td>0</td>\n",
       "      <td>91074</td>\n",
       "      <td>2016-03-17 17:40:17</td>\n",
       "    </tr>\n",
       "    <tr>\n",
       "      <th>4</th>\n",
       "      <td>2016-03-31 17:25:20</td>\n",
       "      <td>3600</td>\n",
       "      <td>small</td>\n",
       "      <td>2008</td>\n",
       "      <td>manual</td>\n",
       "      <td>69</td>\n",
       "      <td>fabia</td>\n",
       "      <td>90000</td>\n",
       "      <td>7</td>\n",
       "      <td>gasoline</td>\n",
       "      <td>skoda</td>\n",
       "      <td>no</td>\n",
       "      <td>2016-03-31 00:00:00</td>\n",
       "      <td>0</td>\n",
       "      <td>60437</td>\n",
       "      <td>2016-04-06 10:17:21</td>\n",
       "    </tr>\n",
       "  </tbody>\n",
       "</table>\n",
       "</div>"
      ],
      "text/plain": [
       "           DateCrawled  Price VehicleType  RegistrationYear Gearbox  Power  \\\n",
       "0  2016-03-24 11:52:17    480         NaN              1993  manual      0   \n",
       "1  2016-03-24 10:58:45  18300       coupe              2011  manual    190   \n",
       "2  2016-03-14 12:52:21   9800         suv              2004    auto    163   \n",
       "3  2016-03-17 16:54:04   1500       small              2001  manual     75   \n",
       "4  2016-03-31 17:25:20   3600       small              2008  manual     69   \n",
       "\n",
       "   Model  Kilometer  RegistrationMonth  FuelType       Brand NotRepaired  \\\n",
       "0   golf     150000                  0    petrol  volkswagen         NaN   \n",
       "1    NaN     125000                  5  gasoline        audi         yes   \n",
       "2  grand     125000                  8  gasoline        jeep         NaN   \n",
       "3   golf     150000                  6    petrol  volkswagen          no   \n",
       "4  fabia      90000                  7  gasoline       skoda          no   \n",
       "\n",
       "           DateCreated  NumberOfPictures  PostalCode             LastSeen  \n",
       "0  2016-03-24 00:00:00                 0       70435  2016-04-07 03:16:57  \n",
       "1  2016-03-24 00:00:00                 0       66954  2016-04-07 01:46:50  \n",
       "2  2016-03-14 00:00:00                 0       90480  2016-04-05 12:47:46  \n",
       "3  2016-03-17 00:00:00                 0       91074  2016-03-17 17:40:17  \n",
       "4  2016-03-31 00:00:00                 0       60437  2016-04-06 10:17:21  "
      ]
     },
     "execution_count": 4,
     "metadata": {},
     "output_type": "execute_result"
    }
   ],
   "source": [
    "# Загрузим наши данные\n",
    "df = pd.read_csv('datasets/autos.csv')\n",
    "df.head()"
   ]
  },
  {
   "cell_type": "markdown",
   "metadata": {},
   "source": [
    "Не все параметры будут нужны для определения стоимости автомобиля. Например, дата выгрузки анкеты или создания объявления. Наличие фотографий может влиять на скорость продажи машины, но не на ее рыночную стоимость. Удалим их. "
   ]
  },
  {
   "cell_type": "code",
   "execution_count": 5,
   "metadata": {},
   "outputs": [
    {
     "data": {
      "text/html": [
       "<div>\n",
       "<style scoped>\n",
       "    .dataframe tbody tr th:only-of-type {\n",
       "        vertical-align: middle;\n",
       "    }\n",
       "\n",
       "    .dataframe tbody tr th {\n",
       "        vertical-align: top;\n",
       "    }\n",
       "\n",
       "    .dataframe thead th {\n",
       "        text-align: right;\n",
       "    }\n",
       "</style>\n",
       "<table border=\"1\" class=\"dataframe\">\n",
       "  <thead>\n",
       "    <tr style=\"text-align: right;\">\n",
       "      <th></th>\n",
       "      <th>Price</th>\n",
       "      <th>VehicleType</th>\n",
       "      <th>RegistrationYear</th>\n",
       "      <th>Gearbox</th>\n",
       "      <th>Power</th>\n",
       "      <th>Model</th>\n",
       "      <th>Kilometer</th>\n",
       "      <th>RegistrationMonth</th>\n",
       "      <th>FuelType</th>\n",
       "      <th>Brand</th>\n",
       "      <th>NotRepaired</th>\n",
       "    </tr>\n",
       "  </thead>\n",
       "  <tbody>\n",
       "    <tr>\n",
       "      <th>0</th>\n",
       "      <td>480</td>\n",
       "      <td>NaN</td>\n",
       "      <td>1993</td>\n",
       "      <td>manual</td>\n",
       "      <td>0</td>\n",
       "      <td>golf</td>\n",
       "      <td>150000</td>\n",
       "      <td>0</td>\n",
       "      <td>petrol</td>\n",
       "      <td>volkswagen</td>\n",
       "      <td>NaN</td>\n",
       "    </tr>\n",
       "    <tr>\n",
       "      <th>1</th>\n",
       "      <td>18300</td>\n",
       "      <td>coupe</td>\n",
       "      <td>2011</td>\n",
       "      <td>manual</td>\n",
       "      <td>190</td>\n",
       "      <td>NaN</td>\n",
       "      <td>125000</td>\n",
       "      <td>5</td>\n",
       "      <td>gasoline</td>\n",
       "      <td>audi</td>\n",
       "      <td>yes</td>\n",
       "    </tr>\n",
       "    <tr>\n",
       "      <th>2</th>\n",
       "      <td>9800</td>\n",
       "      <td>suv</td>\n",
       "      <td>2004</td>\n",
       "      <td>auto</td>\n",
       "      <td>163</td>\n",
       "      <td>grand</td>\n",
       "      <td>125000</td>\n",
       "      <td>8</td>\n",
       "      <td>gasoline</td>\n",
       "      <td>jeep</td>\n",
       "      <td>NaN</td>\n",
       "    </tr>\n",
       "    <tr>\n",
       "      <th>3</th>\n",
       "      <td>1500</td>\n",
       "      <td>small</td>\n",
       "      <td>2001</td>\n",
       "      <td>manual</td>\n",
       "      <td>75</td>\n",
       "      <td>golf</td>\n",
       "      <td>150000</td>\n",
       "      <td>6</td>\n",
       "      <td>petrol</td>\n",
       "      <td>volkswagen</td>\n",
       "      <td>no</td>\n",
       "    </tr>\n",
       "    <tr>\n",
       "      <th>4</th>\n",
       "      <td>3600</td>\n",
       "      <td>small</td>\n",
       "      <td>2008</td>\n",
       "      <td>manual</td>\n",
       "      <td>69</td>\n",
       "      <td>fabia</td>\n",
       "      <td>90000</td>\n",
       "      <td>7</td>\n",
       "      <td>gasoline</td>\n",
       "      <td>skoda</td>\n",
       "      <td>no</td>\n",
       "    </tr>\n",
       "  </tbody>\n",
       "</table>\n",
       "</div>"
      ],
      "text/plain": [
       "   Price VehicleType  RegistrationYear Gearbox  Power  Model  Kilometer  \\\n",
       "0    480         NaN              1993  manual      0   golf     150000   \n",
       "1  18300       coupe              2011  manual    190    NaN     125000   \n",
       "2   9800         suv              2004    auto    163  grand     125000   \n",
       "3   1500       small              2001  manual     75   golf     150000   \n",
       "4   3600       small              2008  manual     69  fabia      90000   \n",
       "\n",
       "   RegistrationMonth  FuelType       Brand NotRepaired  \n",
       "0                  0    petrol  volkswagen         NaN  \n",
       "1                  5  gasoline        audi         yes  \n",
       "2                  8  gasoline        jeep         NaN  \n",
       "3                  6    petrol  volkswagen          no  \n",
       "4                  7  gasoline       skoda          no  "
      ]
     },
     "execution_count": 5,
     "metadata": {},
     "output_type": "execute_result"
    }
   ],
   "source": [
    "del df['DateCrawled'], df['DateCreated'], df['NumberOfPictures'], df['PostalCode'], df['LastSeen']\n",
    "df.head()"
   ]
  },
  {
   "cell_type": "markdown",
   "metadata": {},
   "source": [
    "<div class=\"alert alert-success\">\n",
    "<h2> Комментарий ревьюера <a class=\"tocSkip\"> </h2>\n",
    "\n",
    "<b>Все отлично!👍:</b> \n",
    "    \n",
    "Молодец, что объясняешь. Но из них можно было бы выделить дополнительные признаки - страна объявления, или, например, определить верхнее время года по дате сбора."
   ]
  },
  {
   "cell_type": "code",
   "execution_count": 6,
   "metadata": {},
   "outputs": [
    {
     "name": "stdout",
     "output_type": "stream",
     "text": [
      "<class 'pandas.core.frame.DataFrame'>\n",
      "RangeIndex: 354369 entries, 0 to 354368\n",
      "Data columns (total 11 columns):\n",
      " #   Column             Non-Null Count   Dtype \n",
      "---  ------             --------------   ----- \n",
      " 0   Price              354369 non-null  int64 \n",
      " 1   VehicleType        316879 non-null  object\n",
      " 2   RegistrationYear   354369 non-null  int64 \n",
      " 3   Gearbox            334536 non-null  object\n",
      " 4   Power              354369 non-null  int64 \n",
      " 5   Model              334664 non-null  object\n",
      " 6   Kilometer          354369 non-null  int64 \n",
      " 7   RegistrationMonth  354369 non-null  int64 \n",
      " 8   FuelType           321474 non-null  object\n",
      " 9   Brand              354369 non-null  object\n",
      " 10  NotRepaired        283215 non-null  object\n",
      "dtypes: int64(5), object(6)\n",
      "memory usage: 29.7+ MB\n"
     ]
    }
   ],
   "source": [
    "# Посмотрим инфо по интересующим нас данным\n",
    "df.info()"
   ]
  },
  {
   "cell_type": "markdown",
   "metadata": {},
   "source": [
    "<b>Видим, что</b>\n",
    "    <ul>\n",
    "<li>С типами в целом, всё в порядке</li>\n",
    "<li>Есть много пропущенный значений</li>\n",
    "<li>Есть явные выбросы в обе стороны у лошадинных сил и года регистрации </li>\n",
    "<li>Нулевой месяц регистрации вызывает вопросы</li>\n",
    "</ul>\n",
    "Начнем с обработки выбросов."
   ]
  },
  {
   "cell_type": "code",
   "execution_count": 7,
   "metadata": {},
   "outputs": [
    {
     "data": {
      "text/plain": [
       "0     37352\n",
       "3     34373\n",
       "6     31508\n",
       "4     29270\n",
       "5     29153\n",
       "7     27213\n",
       "10    26099\n",
       "12    24289\n",
       "11    24186\n",
       "9     23813\n",
       "1     23219\n",
       "8     22627\n",
       "2     21267\n",
       "Name: RegistrationMonth, dtype: int64"
      ]
     },
     "execution_count": 7,
     "metadata": {},
     "output_type": "execute_result"
    }
   ],
   "source": [
    "df['RegistrationMonth'].value_counts()"
   ]
  },
  {
   "cell_type": "markdown",
   "metadata": {},
   "source": [
    "У нас 37000+ нулевых значений, просто так удалять мы их пока не будем, будем считать 0 отсутствием данных о месяце."
   ]
  },
  {
   "cell_type": "code",
   "execution_count": 8,
   "metadata": {},
   "outputs": [
    {
     "data": {
      "image/png": "[encoded data removed]",
      "text/plain": [
       "<Figure size 1152x576 with 1 Axes>"
      ]
     },
     "metadata": {
      "needs_background": "light"
     },
     "output_type": "display_data"
    }
   ],
   "source": [
    "fig, ax = plt.subplots(1)\n",
    "ax.set_title('Распределение объявлений по мощности')\n",
    "ax.set_xlabel('Лошадинных сил')\n",
    "ax.set_ylabel('Количество объявлений')\n",
    "_, bp = df['Power'].plot(kind='box', figsize=(16,8), ax=ax, return_type='both')"
   ]
  },
  {
   "cell_type": "code",
   "execution_count": 9,
   "metadata": {},
   "outputs": [
    {
     "data": {
      "text/html": [
       "<div>\n",
       "<style scoped>\n",
       "    .dataframe tbody tr th:only-of-type {\n",
       "        vertical-align: middle;\n",
       "    }\n",
       "\n",
       "    .dataframe tbody tr th {\n",
       "        vertical-align: top;\n",
       "    }\n",
       "\n",
       "    .dataframe thead th {\n",
       "        text-align: right;\n",
       "    }\n",
       "</style>\n",
       "<table border=\"1\" class=\"dataframe\">\n",
       "  <thead>\n",
       "    <tr style=\"text-align: right;\">\n",
       "      <th></th>\n",
       "      <th>Price</th>\n",
       "      <th>VehicleType</th>\n",
       "      <th>RegistrationYear</th>\n",
       "      <th>Gearbox</th>\n",
       "      <th>Power</th>\n",
       "      <th>Model</th>\n",
       "      <th>Kilometer</th>\n",
       "      <th>RegistrationMonth</th>\n",
       "      <th>FuelType</th>\n",
       "      <th>Brand</th>\n",
       "      <th>NotRepaired</th>\n",
       "    </tr>\n",
       "  </thead>\n",
       "  <tbody>\n",
       "    <tr>\n",
       "      <th>7661</th>\n",
       "      <td>1499</td>\n",
       "      <td>small</td>\n",
       "      <td>1999</td>\n",
       "      <td>manual</td>\n",
       "      <td>7515</td>\n",
       "      <td>lupo</td>\n",
       "      <td>150000</td>\n",
       "      <td>4</td>\n",
       "      <td>petrol</td>\n",
       "      <td>volkswagen</td>\n",
       "      <td>NaN</td>\n",
       "    </tr>\n",
       "    <tr>\n",
       "      <th>11039</th>\n",
       "      <td>0</td>\n",
       "      <td>sedan</td>\n",
       "      <td>1998</td>\n",
       "      <td>manual</td>\n",
       "      <td>10317</td>\n",
       "      <td>other</td>\n",
       "      <td>150000</td>\n",
       "      <td>8</td>\n",
       "      <td>petrol</td>\n",
       "      <td>fiat</td>\n",
       "      <td>no</td>\n",
       "    </tr>\n",
       "    <tr>\n",
       "      <th>19092</th>\n",
       "      <td>9750</td>\n",
       "      <td>wagon</td>\n",
       "      <td>2005</td>\n",
       "      <td>auto</td>\n",
       "      <td>2729</td>\n",
       "      <td>5er</td>\n",
       "      <td>150000</td>\n",
       "      <td>7</td>\n",
       "      <td>gasoline</td>\n",
       "      <td>bmw</td>\n",
       "      <td>no</td>\n",
       "    </tr>\n",
       "    <tr>\n",
       "      <th>25232</th>\n",
       "      <td>10900</td>\n",
       "      <td>bus</td>\n",
       "      <td>2009</td>\n",
       "      <td>manual</td>\n",
       "      <td>10520</td>\n",
       "      <td>caddy</td>\n",
       "      <td>150000</td>\n",
       "      <td>6</td>\n",
       "      <td>gasoline</td>\n",
       "      <td>volkswagen</td>\n",
       "      <td>no</td>\n",
       "    </tr>\n",
       "    <tr>\n",
       "      <th>33952</th>\n",
       "      <td>3740</td>\n",
       "      <td>small</td>\n",
       "      <td>2006</td>\n",
       "      <td>manual</td>\n",
       "      <td>6920</td>\n",
       "      <td>aygo</td>\n",
       "      <td>90000</td>\n",
       "      <td>10</td>\n",
       "      <td>NaN</td>\n",
       "      <td>toyota</td>\n",
       "      <td>no</td>\n",
       "    </tr>\n",
       "    <tr>\n",
       "      <th>36206</th>\n",
       "      <td>5400</td>\n",
       "      <td>NaN</td>\n",
       "      <td>2017</td>\n",
       "      <td>manual</td>\n",
       "      <td>2017</td>\n",
       "      <td>transporter</td>\n",
       "      <td>150000</td>\n",
       "      <td>8</td>\n",
       "      <td>gasoline</td>\n",
       "      <td>volkswagen</td>\n",
       "      <td>NaN</td>\n",
       "    </tr>\n",
       "    <tr>\n",
       "      <th>44520</th>\n",
       "      <td>2500</td>\n",
       "      <td>convertible</td>\n",
       "      <td>1998</td>\n",
       "      <td>manual</td>\n",
       "      <td>7512</td>\n",
       "      <td>golf</td>\n",
       "      <td>150000</td>\n",
       "      <td>6</td>\n",
       "      <td>NaN</td>\n",
       "      <td>volkswagen</td>\n",
       "      <td>NaN</td>\n",
       "    </tr>\n",
       "    <tr>\n",
       "      <th>45053</th>\n",
       "      <td>15800</td>\n",
       "      <td>convertible</td>\n",
       "      <td>2014</td>\n",
       "      <td>auto</td>\n",
       "      <td>10218</td>\n",
       "      <td>fortwo</td>\n",
       "      <td>30000</td>\n",
       "      <td>3</td>\n",
       "      <td>petrol</td>\n",
       "      <td>smart</td>\n",
       "      <td>NaN</td>\n",
       "    </tr>\n",
       "    <tr>\n",
       "      <th>45216</th>\n",
       "      <td>1690</td>\n",
       "      <td>sedan</td>\n",
       "      <td>1999</td>\n",
       "      <td>manual</td>\n",
       "      <td>7544</td>\n",
       "      <td>golf</td>\n",
       "      <td>125000</td>\n",
       "      <td>12</td>\n",
       "      <td>petrol</td>\n",
       "      <td>volkswagen</td>\n",
       "      <td>NaN</td>\n",
       "    </tr>\n",
       "    <tr>\n",
       "      <th>53158</th>\n",
       "      <td>1200</td>\n",
       "      <td>small</td>\n",
       "      <td>2001</td>\n",
       "      <td>manual</td>\n",
       "      <td>5411</td>\n",
       "      <td>seicento</td>\n",
       "      <td>150000</td>\n",
       "      <td>2</td>\n",
       "      <td>NaN</td>\n",
       "      <td>fiat</td>\n",
       "      <td>no</td>\n",
       "    </tr>\n",
       "  </tbody>\n",
       "</table>\n",
       "</div>"
      ],
      "text/plain": [
       "       Price  VehicleType  RegistrationYear Gearbox  Power        Model  \\\n",
       "7661    1499        small              1999  manual   7515         lupo   \n",
       "11039      0        sedan              1998  manual  10317        other   \n",
       "19092   9750        wagon              2005    auto   2729          5er   \n",
       "25232  10900          bus              2009  manual  10520        caddy   \n",
       "33952   3740        small              2006  manual   6920         aygo   \n",
       "36206   5400          NaN              2017  manual   2017  transporter   \n",
       "44520   2500  convertible              1998  manual   7512         golf   \n",
       "45053  15800  convertible              2014    auto  10218       fortwo   \n",
       "45216   1690        sedan              1999  manual   7544         golf   \n",
       "53158   1200        small              2001  manual   5411     seicento   \n",
       "\n",
       "       Kilometer  RegistrationMonth  FuelType       Brand NotRepaired  \n",
       "7661      150000                  4    petrol  volkswagen         NaN  \n",
       "11039     150000                  8    petrol        fiat          no  \n",
       "19092     150000                  7  gasoline         bmw          no  \n",
       "25232     150000                  6  gasoline  volkswagen          no  \n",
       "33952      90000                 10       NaN      toyota          no  \n",
       "36206     150000                  8  gasoline  volkswagen         NaN  \n",
       "44520     150000                  6       NaN  volkswagen         NaN  \n",
       "45053      30000                  3    petrol       smart         NaN  \n",
       "45216     125000                 12    petrol  volkswagen         NaN  \n",
       "53158     150000                  2       NaN        fiat          no  "
      ]
     },
     "execution_count": 9,
     "metadata": {},
     "output_type": "execute_result"
    }
   ],
   "source": [
    "# С помощью гугления было выяснено, что самая большая мощность серийного автомобиля - 2000 лошадинных сил\n",
    "# тем не менее, посмотрим, какие у нас тут представлены данные\n",
    "\n",
    "df[df['Power'] > 2000].head(10)"
   ]
  },
  {
   "cell_type": "markdown",
   "metadata": {},
   "source": [
    "Изучив несколько из представленных машин, стало понятно, что мощность можно исправить только у fiat seicento (выглядит так, что умножили на 100). Где-то в мощности продублирован год, но в остальном выглядит так, что это какие-то случайные значения, поэтому тут мы ничего исправить не можем ориентируясь на них, но можем ориентируясь на остальные данные.\n",
    "\n",
    "Для начала посмотрим наши границы."
   ]
  },
  {
   "cell_type": "markdown",
   "metadata": {},
   "source": [
    "<div class=\"alert alert-success\">\n",
    "<h2> Комментарий ревьюера <a class=\"tocSkip\"> </h2>\n",
    "\n",
    "<b>Все отлично!👍:</b> \n",
    "    \n",
    "Отлично, плюс, что пишешь выводы явно и обосновываешь решения"
   ]
  },
  {
   "cell_type": "code",
   "execution_count": 10,
   "metadata": {},
   "outputs": [
    {
     "data": {
      "text/plain": [
       "254.0"
      ]
     },
     "execution_count": 10,
     "metadata": {},
     "output_type": "execute_result"
    }
   ],
   "source": [
    "whiskers = [whiskers.get_ydata() for whiskers in bp[\"whiskers\"]]\n",
    "whiskers[1][1]"
   ]
  },
  {
   "cell_type": "code",
   "execution_count": 11,
   "metadata": {},
   "outputs": [
    {
     "data": {
      "text/plain": [
       "1534"
      ]
     },
     "execution_count": 11,
     "metadata": {},
     "output_type": "execute_result"
    }
   ],
   "source": [
    "# возьмем за отсечку кайен с его 340 л.с.\n",
    "df[df['Power'] > 340]['Brand'].count()"
   ]
  },
  {
   "cell_type": "code",
   "execution_count": 12,
   "metadata": {},
   "outputs": [
    {
     "data": {
      "text/plain": [
       "0     40225\n",
       "60    15897\n",
       "54     5745\n",
       "50     4627\n",
       "58     3854\n",
       "      ...  \n",
       "21        6\n",
       "22        5\n",
       "9         5\n",
       "32        5\n",
       "28        5\n",
       "Name: Power, Length: 69, dtype: int64"
      ]
     },
     "execution_count": 12,
     "metadata": {},
     "output_type": "execute_result"
    }
   ],
   "source": [
    "# Рассмотрим минимальные значения\n",
    "df[df['Power'] < whiskers[0][0]]['Power'].value_counts()"
   ]
  },
  {
   "cell_type": "markdown",
   "metadata": {},
   "source": [
    "В данном случае 40к+ нулевых значений дают о себе знать. Судя по всему это 40000 неуказанных мощностей. Однако, мощность зачастую зависит от модели и года выпуска, а значит мы можем попробовать заполнить эти данные по уже имеющимся. И если где-то это не получится, рассмотрим вариант удаления этих значений"
   ]
  },
  {
   "cell_type": "code",
   "execution_count": 13,
   "metadata": {},
   "outputs": [
    {
     "name": "stdout",
     "output_type": "stream",
     "text": [
      "CPU times: total: 15.6 ms\n",
      "Wall time: 17 ms\n"
     ]
    },
    {
     "data": {
      "text/plain": [
       "Brand               42667\n",
       "Model               35893\n",
       "RegistrationYear    42667\n",
       "dtype: int64"
      ]
     },
     "execution_count": 13,
     "metadata": {},
     "output_type": "execute_result"
    }
   ],
   "source": [
    "%%time\n",
    "\n",
    "def calculate_power(df, brand, model, year):\n",
    "    df_part = df[(df['RegistrationYear'] == year) & (df['Brand'] == brand) & (df['Model'] == model)]\n",
    "    if (df_part['Power'].count() == 0):\n",
    "        # если не нашли по году, бренду и модели, пробуем только по бренду + модели\n",
    "        df_part = df[(df['Brand'] == brand) & (df['Model'] == model)]\n",
    "    \n",
    "    median_power = df_part['Power'].median()\n",
    "    \n",
    "    if (math.isnan(median_power)):\n",
    "        median_power = 0\n",
    "        \n",
    "    return median_power\n",
    "\n",
    "# Попробуем заполнить мощность для наших плохих данных\n",
    "bad_power_df = df[(df['Power'] < 30) | (df['Power'] > 340)][['Brand', 'Model', 'RegistrationYear']]\n",
    "bad_power_df.count()"
   ]
  },
  {
   "cell_type": "code",
   "execution_count": 14,
   "metadata": {},
   "outputs": [],
   "source": [
    "# Заполним незаполненные модели категорией other\n",
    "bad_power_df['Model'] = bad_power_df['Model'].fillna('other')"
   ]
  },
  {
   "cell_type": "code",
   "execution_count": 15,
   "metadata": {},
   "outputs": [
    {
     "data": {
      "text/plain": [
       "Brand               4758\n",
       "Model               4758\n",
       "RegistrationYear    4758\n",
       "dtype: int64"
      ]
     },
     "execution_count": 15,
     "metadata": {},
     "output_type": "execute_result"
    }
   ],
   "source": [
    "bad_power_df = bad_power_df.drop_duplicates()\n",
    "bad_power_df.count()"
   ]
  },
  {
   "cell_type": "code",
   "execution_count": 16,
   "metadata": {},
   "outputs": [
    {
     "data": {
      "text/html": [
       "<div>\n",
       "<style scoped>\n",
       "    .dataframe tbody tr th:only-of-type {\n",
       "        vertical-align: middle;\n",
       "    }\n",
       "\n",
       "    .dataframe tbody tr th {\n",
       "        vertical-align: top;\n",
       "    }\n",
       "\n",
       "    .dataframe thead th {\n",
       "        text-align: right;\n",
       "    }\n",
       "</style>\n",
       "<table border=\"1\" class=\"dataframe\">\n",
       "  <thead>\n",
       "    <tr style=\"text-align: right;\">\n",
       "      <th></th>\n",
       "      <th>Brand</th>\n",
       "      <th>Model</th>\n",
       "      <th>RegistrationYear</th>\n",
       "    </tr>\n",
       "  </thead>\n",
       "  <tbody>\n",
       "    <tr>\n",
       "      <th>0</th>\n",
       "      <td>volkswagen</td>\n",
       "      <td>golf</td>\n",
       "      <td>1993</td>\n",
       "    </tr>\n",
       "    <tr>\n",
       "      <th>15</th>\n",
       "      <td>ford</td>\n",
       "      <td>ka</td>\n",
       "      <td>1910</td>\n",
       "    </tr>\n",
       "    <tr>\n",
       "      <th>32</th>\n",
       "      <td>volkswagen</td>\n",
       "      <td>golf</td>\n",
       "      <td>1994</td>\n",
       "    </tr>\n",
       "    <tr>\n",
       "      <th>37</th>\n",
       "      <td>renault</td>\n",
       "      <td>kangoo</td>\n",
       "      <td>2016</td>\n",
       "    </tr>\n",
       "    <tr>\n",
       "      <th>40</th>\n",
       "      <td>opel</td>\n",
       "      <td>corsa</td>\n",
       "      <td>1990</td>\n",
       "    </tr>\n",
       "    <tr>\n",
       "      <th>...</th>\n",
       "      <td>...</td>\n",
       "      <td>...</td>\n",
       "      <td>...</td>\n",
       "    </tr>\n",
       "    <tr>\n",
       "      <th>351714</th>\n",
       "      <td>jaguar</td>\n",
       "      <td>s_type</td>\n",
       "      <td>2004</td>\n",
       "    </tr>\n",
       "    <tr>\n",
       "      <th>353042</th>\n",
       "      <td>volkswagen</td>\n",
       "      <td>golf</td>\n",
       "      <td>1970</td>\n",
       "    </tr>\n",
       "    <tr>\n",
       "      <th>353267</th>\n",
       "      <td>citroen</td>\n",
       "      <td>c3</td>\n",
       "      <td>2012</td>\n",
       "    </tr>\n",
       "    <tr>\n",
       "      <th>354056</th>\n",
       "      <td>kia</td>\n",
       "      <td>picanto</td>\n",
       "      <td>2016</td>\n",
       "    </tr>\n",
       "    <tr>\n",
       "      <th>354318</th>\n",
       "      <td>subaru</td>\n",
       "      <td>legacy</td>\n",
       "      <td>1991</td>\n",
       "    </tr>\n",
       "  </tbody>\n",
       "</table>\n",
       "<p>4758 rows × 3 columns</p>\n",
       "</div>"
      ],
      "text/plain": [
       "             Brand    Model  RegistrationYear\n",
       "0       volkswagen     golf              1993\n",
       "15            ford       ka              1910\n",
       "32      volkswagen     golf              1994\n",
       "37         renault   kangoo              2016\n",
       "40            opel    corsa              1990\n",
       "...            ...      ...               ...\n",
       "351714      jaguar   s_type              2004\n",
       "353042  volkswagen     golf              1970\n",
       "353267     citroen       c3              2012\n",
       "354056         kia  picanto              2016\n",
       "354318      subaru   legacy              1991\n",
       "\n",
       "[4758 rows x 3 columns]"
      ]
     },
     "execution_count": 16,
     "metadata": {},
     "output_type": "execute_result"
    }
   ],
   "source": [
    "bad_power_df"
   ]
  },
  {
   "cell_type": "code",
   "execution_count": 17,
   "metadata": {},
   "outputs": [],
   "source": [
    "for row in bad_power_df.itertuples(index=True, name='Pandas'):\n",
    "    year = getattr(row, \"RegistrationYear\")\n",
    "    brand = getattr(row, \"Brand\")\n",
    "    model = getattr(row, \"Model\")\n",
    "    median = calculate_power(df, brand, model, year)\n",
    "    searchRow = ((df['Power'] < 30) | (df['Power'] > 340)) & (df['Brand'] == brand) & (df['Model'] == model) & (df['RegistrationYear'] == year)\n",
    "    df.loc[searchRow, 'Power'] = median"
   ]
  },
  {
   "cell_type": "markdown",
   "metadata": {},
   "source": [
    "<div class=\"alert alert-warning\">\n",
    "    <h2> Комментарий ревьюера <a class=\"tocSkip\"> </h2>\n",
    "\n",
    "<b>Некоторые замечания и рекомендации💡:</b>\n",
    "\n",
    "Удобнее использовать следующую конструкцию, чтобы пройтись по всем строкам фрейма:\n",
    "        \n",
    "        for i, row in df.iterrows(): # i - index, row - строка\n",
    "            ...\n",
    "        \n",
    "Хотя ещё проще было бы использование groupby:\n",
    "        \n",
    "        df.groupby([столбцы]).transform('median') # transform используем, чтобы преобразовать к первоначальному размеру фрейма"
   ]
  },
  {
   "cell_type": "code",
   "execution_count": 18,
   "metadata": {},
   "outputs": [
    {
     "data": {
      "text/plain": [
       "7755"
      ]
     },
     "execution_count": 18,
     "metadata": {},
     "output_type": "execute_result"
    }
   ],
   "source": [
    "# Посмотрим, сколько нулевых значений осталось\n",
    "df[df['Power'] == 0]['Price'].count()"
   ]
  },
  {
   "cell_type": "code",
   "execution_count": 19,
   "metadata": {},
   "outputs": [],
   "source": [
    "# Остались только какие-то уникальные модели, которые не встретились в остальной выборке, удалим их\n",
    "df = df[df['Power'] != 0]"
   ]
  },
  {
   "cell_type": "code",
   "execution_count": 20,
   "metadata": {},
   "outputs": [
    {
     "data": {
      "image/png": "[encoded data removed]",
      "text/plain": [
       "<Figure size 1152x576 with 1 Axes>"
      ]
     },
     "metadata": {
      "needs_background": "light"
     },
     "output_type": "display_data"
    }
   ],
   "source": [
    "# Разберемся с годами\n",
    "fig, ax = plt.subplots(1)\n",
    "ax.set_title('Распределение объявлений по мощности')\n",
    "ax.set_xlabel('Год регистрации')\n",
    "ax.set_ylabel('Количество объявлений')\n",
    "_, bp = df['RegistrationYear'].plot(kind='box', figsize=(16,8), ax=ax, return_type='both')"
   ]
  },
  {
   "cell_type": "code",
   "execution_count": 21,
   "metadata": {},
   "outputs": [
    {
     "data": {
      "text/plain": [
       "2726"
      ]
     },
     "execution_count": 21,
     "metadata": {},
     "output_type": "execute_result"
    }
   ],
   "source": [
    "# Выберем только значения в диапазоне от 2020 года (остальные вряд ли возможны) \n",
    "# и от 1980 (меньше также вряд ли возможны и нам интересны)\n",
    "\n",
    "df[(df['RegistrationYear'] < 1980) | (df['RegistrationYear'] > 2020)]['Price'].count()"
   ]
  },
  {
   "cell_type": "code",
   "execution_count": 22,
   "metadata": {},
   "outputs": [],
   "source": [
    "# Поскольку восстановить эти данные проблема, удалим их\n",
    "df = df[(df['RegistrationYear'] >= 1980) | (df['RegistrationYear'] <= 2020)]"
   ]
  },
  {
   "cell_type": "code",
   "execution_count": 23,
   "metadata": {},
   "outputs": [
    {
     "data": {
      "image/png": "[encoded data removed]",
      "text/plain": [
       "<Figure size 1152x576 with 1 Axes>"
      ]
     },
     "metadata": {
      "needs_background": "light"
     },
     "output_type": "display_data"
    }
   ],
   "source": [
    "# Посмотрим на boxplot\n",
    "fig, ax = plt.subplots(1)\n",
    "ax.set_title('Распределение объявлений по мощности')\n",
    "ax.set_xlabel('цена')\n",
    "ax.set_ylabel('Количество объявлений')\n",
    "_, bp = df['Price'].plot(kind='box', figsize=(16,8), ax=ax, return_type='both')"
   ]
  },
  {
   "cell_type": "code",
   "execution_count": 24,
   "metadata": {},
   "outputs": [
    {
     "data": {
      "text/plain": [
       "0    9317\n",
       "1     988\n",
       "5      23\n",
       "2       9\n",
       "9       6\n",
       "3       5\n",
       "7       2\n",
       "8       1\n",
       "Name: Price, dtype: int64"
      ]
     },
     "execution_count": 24,
     "metadata": {},
     "output_type": "execute_result"
    }
   ],
   "source": [
    "# Посмотрим, что у нас с ценой (есть нулевые значения)\n",
    "df[df['Price'] < 10]['Price'].value_counts()"
   ]
  },
  {
   "cell_type": "code",
   "execution_count": 25,
   "metadata": {},
   "outputs": [
    {
     "data": {
      "text/plain": [
       "Brand               2379\n",
       "Model               2379\n",
       "RegistrationYear    2379\n",
       "dtype: int64"
      ]
     },
     "execution_count": 25,
     "metadata": {},
     "output_type": "execute_result"
    }
   ],
   "source": [
    "# По верхней границе находятся в основном audi, bmw и т.д.\n",
    "# Есть исключения, но выделять их отдельно проблематично, оставим как есть\n",
    "# А вот нулевые цены представляют реальную проблему, обработаем их по аналогии с мощностью двигателя,\n",
    "# Но возьмем на этот раз не медиану, а среднее\n",
    "\n",
    "def calculate_price(df, brand, model, year):\n",
    "    # в среднем не будем рассчитывать нулевые значения\n",
    "    df_part = df[(df['Price'] >= 10) & (df['RegistrationYear'] == year) & (df['Brand'] == brand) & (df['Model'] == model)]\n",
    "    if (df_part['Price'].count() == 0):\n",
    "        # если не нашли по году, бренду и модели, пробуем только по бренду + модели\n",
    "        df_part = df[(df['Price'] >= 10) & (df['Brand'] == brand) & (df['Model'] == model)]\n",
    "    \n",
    "    mean_price = df_part['Price'].mean()\n",
    "    \n",
    "    if (math.isnan(mean_price)):\n",
    "        mean_price = 0\n",
    "        \n",
    "    return mean_price\n",
    "\n",
    "# Попробуем заполнить мощность для наших плохих данных\n",
    "bad_price_df = df[df['Price'] < 10][['Brand', 'Model', 'RegistrationYear']]\n",
    "bad_price_df['Model'] = bad_price_df['Model'].fillna('other')\n",
    "bad_price_df = bad_price_df.drop_duplicates()\n",
    "bad_price_df.count()"
   ]
  },
  {
   "cell_type": "markdown",
   "metadata": {},
   "source": [
    "<div class=\"alert alert-warning\">\n",
    "    <h2> Комментарий ревьюера <a class=\"tocSkip\"> </h2>\n",
    "\n",
    "<b>Некоторые замечания и рекомендации💡:</b>\n",
    "\n",
    "Восстанавливать целевую переменную не стоит - у тебя тогда получится смещенная модель. Эти столбцы можно было бы отбросить - они представляют не так много данных."
   ]
  },
  {
   "cell_type": "code",
   "execution_count": 26,
   "metadata": {},
   "outputs": [
    {
     "name": "stdout",
     "output_type": "stream",
     "text": [
      "CPU times: total: 2min 17s\n",
      "Wall time: 2min 17s\n"
     ]
    },
    {
     "data": {
      "text/plain": [
       "1003"
      ]
     },
     "execution_count": 26,
     "metadata": {},
     "output_type": "execute_result"
    }
   ],
   "source": [
    "%%time\n",
    "\n",
    "for row in bad_price_df.itertuples(index=True, name='Pandas'):\n",
    "    year = getattr(row, \"RegistrationYear\")\n",
    "    brand = getattr(row, \"Brand\")\n",
    "    model = getattr(row, \"Model\")\n",
    "    mean_price = calculate_price(df, brand, model, year)\n",
    "    searchRow = (df['Price'] < 15) & (df['Brand'] == brand) & (df['Model'] == model) & (df['RegistrationYear'] == year)\n",
    "    df.loc[searchRow, 'Price'] = mean_price\n",
    "    \n",
    "df[df['Price'] < 10]['Price'].count()"
   ]
  },
  {
   "cell_type": "code",
   "execution_count": 27,
   "metadata": {},
   "outputs": [],
   "source": [
    "# Осталось совсем немного кривых данных, удалим их\n",
    "df = df[df['Price'] >= 10]"
   ]
  },
  {
   "cell_type": "markdown",
   "metadata": {},
   "source": [
    "<b>Промежуточный вывод</b>\n",
    "<ul>\n",
    "<li>Мы дозаполнили данные о мощности автомобиля для отсутствующих значений и выбросов</li>\n",
    "<li>Где не получилось этого сделать, мы удалили данные с незаполненным годом регистрации и мощностью автомобиля, т.к. это факторы, которые в любом случае будут влиять на цену</li>\n",
    "<li>Мы заполнили отсутствующие значения для цены, не затрагивая верхнюю границу</li>\n",
    "</ul>\n",
    "Километраж выглядит похожим на правду, а месяц мы вряд ли сможем как-то спрогнозировать, поэтому оставляем, как есть.\n",
    "\n",
    "В остальном, нам необходимо заполнить пропуски в категориальных признаках.\n",
    "\n",
    "Важный момент, дубликаты обрабатывать не будем, т.к. в случае продажи машин могут продаваться с разным цветом и объявления просто похожи друг на друга."
   ]
  },
  {
   "cell_type": "code",
   "execution_count": 28,
   "metadata": {},
   "outputs": [
    {
     "name": "stdout",
     "output_type": "stream",
     "text": [
      "<class 'pandas.core.frame.DataFrame'>\n",
      "Int64Index: 345611 entries, 0 to 354368\n",
      "Data columns (total 11 columns):\n",
      " #   Column             Non-Null Count   Dtype  \n",
      "---  ------             --------------   -----  \n",
      " 0   Price              345611 non-null  float64\n",
      " 1   VehicleType        313073 non-null  object \n",
      " 2   RegistrationYear   345611 non-null  int64  \n",
      " 3   Gearbox            329835 non-null  object \n",
      " 4   Power              345611 non-null  float64\n",
      " 5   Model              333203 non-null  object \n",
      " 6   Kilometer          345611 non-null  int64  \n",
      " 7   RegistrationMonth  345611 non-null  int64  \n",
      " 8   FuelType           317205 non-null  object \n",
      " 9   Brand              345611 non-null  object \n",
      " 10  NotRepaired        280176 non-null  object \n",
      "dtypes: float64(2), int64(3), object(6)\n",
      "memory usage: 31.6+ MB\n"
     ]
    }
   ],
   "source": [
    "# Посмотрим, как обстоят дела с пропуске в обработанном DF\n",
    "df.info()"
   ]
  },
  {
   "cell_type": "code",
   "execution_count": 29,
   "metadata": {},
   "outputs": [
    {
     "data": {
      "text/plain": [
       "no     245045\n",
       "yes     35131\n",
       "Name: NotRepaired, dtype: int64"
      ]
     },
     "execution_count": 29,
     "metadata": {},
     "output_type": "execute_result"
    }
   ],
   "source": [
    "# Посмотрим, есть ли артифакты в значениях NotRepaired\n",
    "df['NotRepaired'].value_counts()"
   ]
  },
  {
   "cell_type": "code",
   "execution_count": 30,
   "metadata": {},
   "outputs": [
    {
     "data": {
      "text/plain": [
       "0    245045\n",
       "1     65435\n",
       "2     35131\n",
       "Name: NotRepaired, dtype: int64"
      ]
     },
     "execution_count": 30,
     "metadata": {},
     "output_type": "execute_result"
    }
   ],
   "source": [
    "# По сути, мы имеем третью категорию, когда нам неизвестно была ли машина в ремонте. Выгоднее это указывать,\n",
    "# если ремонт все же был, однако нам неизвестен источник данных и, возможно, мы просто не смогли подтянуть соответствующую\n",
    "# информацию, поэтому в данном случае будет правильно переделать признак в числовой для удобства, где\n",
    "# 0 будет отсутствие ремонта, 1 неизвестно и 2 - ремонт был (таким образом определим вес каждой категории)\n",
    "\n",
    "df['NotRepaired'] = df['NotRepaired'].fillna(1)\n",
    "\n",
    "def fill_not_repaired(value):\n",
    "    if value == 'no':\n",
    "        return 0\n",
    "    elif value == 'yes':\n",
    "        return 2\n",
    "    else:\n",
    "        return value\n",
    "\n",
    "df['NotRepaired'] = df['NotRepaired'].apply(fill_not_repaired)\n",
    "df['NotRepaired'].value_counts()"
   ]
  },
  {
   "cell_type": "markdown",
   "metadata": {},
   "source": [
    "<div class=\"alert alert-warning\">\n",
    "    <h2> Комментарий ревьюера <a class=\"tocSkip\"> </h2>\n",
    "\n",
    "<b>Некоторые замечания и рекомендации💡:</b>\n",
    "\n",
    "Хорошо, что объясняешь все, но советовал бы делать это в markdown ячейке - так проще читать. Плюс, для соблюдения структуры, неплохо было бы кодировку и все остальное перенести уже после раздела с обработкой данных."
   ]
  },
  {
   "cell_type": "code",
   "execution_count": 31,
   "metadata": {},
   "outputs": [
    {
     "data": {
      "text/plain": [
       "sedan          90483\n",
       "small          78828\n",
       "wagon          64565\n",
       "bus            28469\n",
       "convertible    19974\n",
       "coupe          15914\n",
       "suv            11798\n",
       "other           3042\n",
       "Name: VehicleType, dtype: int64"
      ]
     },
     "execution_count": 31,
     "metadata": {},
     "output_type": "execute_result"
    }
   ],
   "source": [
    "# Разберемся с VehicleType\n",
    "df['VehicleType'].value_counts()"
   ]
  },
  {
   "cell_type": "code",
   "execution_count": 32,
   "metadata": {},
   "outputs": [],
   "source": [
    "# Тут на самом деле отсутствие значения можно выделить в отдельную категорию\n",
    "df['VehicleType'] = df['VehicleType'].fillna('undefined')"
   ]
  },
  {
   "cell_type": "code",
   "execution_count": 33,
   "metadata": {},
   "outputs": [
    {
     "name": "stdout",
     "output_type": "stream",
     "text": [
      "<class 'pandas.core.frame.DataFrame'>\n",
      "RangeIndex: 345611 entries, 0 to 345610\n",
      "Data columns (total 12 columns):\n",
      " #   Column             Non-Null Count   Dtype  \n",
      "---  ------             --------------   -----  \n",
      " 0   index              345611 non-null  int64  \n",
      " 1   Price              345611 non-null  float64\n",
      " 2   VehicleType        345611 non-null  object \n",
      " 3   RegistrationYear   345611 non-null  int64  \n",
      " 4   Gearbox            345611 non-null  object \n",
      " 5   Power              345611 non-null  float64\n",
      " 6   Model              345611 non-null  object \n",
      " 7   Kilometer          345611 non-null  int64  \n",
      " 8   RegistrationMonth  345611 non-null  int64  \n",
      " 9   FuelType           345611 non-null  object \n",
      " 10  Brand              345611 non-null  object \n",
      " 11  NotRepaired        345611 non-null  int64  \n",
      "dtypes: float64(2), int64(5), object(5)\n",
      "memory usage: 31.6+ MB\n"
     ]
    }
   ],
   "source": [
    "# Аналогичным образом поступим и для остальных признаков\n",
    "# т.к. их восстановление или проблематично или не имеет решающей роли, в т.ч. т.к. их осталось меньше 10%\n",
    "df['Gearbox'] = df['Gearbox'].fillna('undefined')\n",
    "df['Model'] = df['Model'].fillna('undefined')\n",
    "df['FuelType'] = df['FuelType'].fillna('undefined')\n",
    "df['Brand'] = df['Brand'].fillna('undefined')\n",
    "\n",
    "# сразу сбросим индексы\n",
    "df = df.reset_index()\n",
    "\n",
    "# посмотрим, что получилось\n",
    "df.info()"
   ]
  },
  {
   "cell_type": "code",
   "execution_count": 34,
   "metadata": {},
   "outputs": [],
   "source": [
    "# Удалим уже не нужные DF\n",
    "del bad_price_df, bad_power_df"
   ]
  },
  {
   "cell_type": "markdown",
   "metadata": {},
   "source": [
    "<b>Вывод</b>\n",
    "\n",
    "Мы подготовили данные, попытавшись спасти максимум возможного. Обработали аномальные значения, рассмотрели каждый признак и исключили признаки, не имеющие для нас значения."
   ]
  },
  {
   "cell_type": "markdown",
   "metadata": {},
   "source": [
    "<div class=\"alert alert-warning\">\n",
    "    <h2> Комментарий ревьюера <a class=\"tocSkip\"> </h2>\n",
    "\n",
    "<b>Некоторые замечания и рекомендации💡:</b>\n",
    "\n",
    "\n",
    "Как можно улучшить:  воспользоваться инструментами для работой с аномалиями, например удалить данные, которые не вмещаются в 1.5 iqr или отбросить по перцентилям. Тут неплохой гайд есть по этому (но перед удалением необходимо все равно сделать проверку - адекватно ли удалять эти значения)\n",
    "    \n",
    "Общий гайд по работе с выбросами\n",
    "    \n",
    "https://towardsdatascience.com/a-complete-guide-for-detecting-and-dealing-with-outliers-bad26b1e92b6\n",
    "    \n",
    "Объяснение 1.5 iqr\n",
    "    \n",
    "https://towardsdatascience.com/why-1-5-in-iqr-method-of-outlier-detection-5d07fdc82097\n",
    "    \n",
    "Использование groupby для заполнения\n",
    "    \n",
    "https://medium.com/analytics-vidhya/best-way-to-impute-categorical-data-using-groupby-mean-mode-2dc5f5d4e12d\n",
    "    \n",
    "https://www.kaggle.com/code/pankeshpatel/handing-missing-data-group-based-imputation/notebook"
   ]
  },
  {
   "cell_type": "markdown",
   "metadata": {},
   "source": [
    "## Обучение моделей"
   ]
  },
  {
   "cell_type": "markdown",
   "metadata": {},
   "source": [
    "Поступим следующим образом:\n",
    "\n",
    "1. Сперва отскалируем признаки и подготовим их для обучения  для простых моделей\n",
    "2. Разобьем выборку на тестовую и валидационную\n",
    "3. Обучим наши модели на простых моделях (линейная регрессия и случайный лес)\n",
    "4. Попробуем LGBMRegressor и CatBoostRegressor"
   ]
  },
  {
   "cell_type": "code",
   "execution_count": 35,
   "metadata": {},
   "outputs": [],
   "source": [
    "# Определим random_state\n",
    "RANDOM_STATE=12345"
   ]
  },
  {
   "cell_type": "code",
   "execution_count": 36,
   "metadata": {},
   "outputs": [
    {
     "data": {
      "text/html": [
       "<div>\n",
       "<style scoped>\n",
       "    .dataframe tbody tr th:only-of-type {\n",
       "        vertical-align: middle;\n",
       "    }\n",
       "\n",
       "    .dataframe tbody tr th {\n",
       "        vertical-align: top;\n",
       "    }\n",
       "\n",
       "    .dataframe thead th {\n",
       "        text-align: right;\n",
       "    }\n",
       "</style>\n",
       "<table border=\"1\" class=\"dataframe\">\n",
       "  <thead>\n",
       "    <tr style=\"text-align: right;\">\n",
       "      <th></th>\n",
       "      <th>RegistrationYear</th>\n",
       "      <th>Power</th>\n",
       "      <th>Kilometer</th>\n",
       "      <th>NotRepaired</th>\n",
       "      <th>VehicleType</th>\n",
       "      <th>Gearbox</th>\n",
       "      <th>Brand</th>\n",
       "      <th>Model</th>\n",
       "      <th>FuelType</th>\n",
       "      <th>RegistrationMonth</th>\n",
       "      <th>Price</th>\n",
       "    </tr>\n",
       "  </thead>\n",
       "  <tbody>\n",
       "    <tr>\n",
       "      <th>0</th>\n",
       "      <td>1993</td>\n",
       "      <td>75.0</td>\n",
       "      <td>150000</td>\n",
       "      <td>1</td>\n",
       "      <td>undefined</td>\n",
       "      <td>manual</td>\n",
       "      <td>volkswagen</td>\n",
       "      <td>golf</td>\n",
       "      <td>petrol</td>\n",
       "      <td>0</td>\n",
       "      <td>480.0</td>\n",
       "    </tr>\n",
       "    <tr>\n",
       "      <th>1</th>\n",
       "      <td>2011</td>\n",
       "      <td>190.0</td>\n",
       "      <td>125000</td>\n",
       "      <td>2</td>\n",
       "      <td>coupe</td>\n",
       "      <td>manual</td>\n",
       "      <td>audi</td>\n",
       "      <td>undefined</td>\n",
       "      <td>gasoline</td>\n",
       "      <td>5</td>\n",
       "      <td>18300.0</td>\n",
       "    </tr>\n",
       "    <tr>\n",
       "      <th>2</th>\n",
       "      <td>2004</td>\n",
       "      <td>163.0</td>\n",
       "      <td>125000</td>\n",
       "      <td>1</td>\n",
       "      <td>suv</td>\n",
       "      <td>auto</td>\n",
       "      <td>jeep</td>\n",
       "      <td>grand</td>\n",
       "      <td>gasoline</td>\n",
       "      <td>8</td>\n",
       "      <td>9800.0</td>\n",
       "    </tr>\n",
       "    <tr>\n",
       "      <th>3</th>\n",
       "      <td>2001</td>\n",
       "      <td>75.0</td>\n",
       "      <td>150000</td>\n",
       "      <td>0</td>\n",
       "      <td>small</td>\n",
       "      <td>manual</td>\n",
       "      <td>volkswagen</td>\n",
       "      <td>golf</td>\n",
       "      <td>petrol</td>\n",
       "      <td>6</td>\n",
       "      <td>1500.0</td>\n",
       "    </tr>\n",
       "    <tr>\n",
       "      <th>4</th>\n",
       "      <td>2008</td>\n",
       "      <td>69.0</td>\n",
       "      <td>90000</td>\n",
       "      <td>0</td>\n",
       "      <td>small</td>\n",
       "      <td>manual</td>\n",
       "      <td>skoda</td>\n",
       "      <td>fabia</td>\n",
       "      <td>gasoline</td>\n",
       "      <td>7</td>\n",
       "      <td>3600.0</td>\n",
       "    </tr>\n",
       "  </tbody>\n",
       "</table>\n",
       "</div>"
      ],
      "text/plain": [
       "   RegistrationYear  Power  Kilometer  NotRepaired VehicleType Gearbox  \\\n",
       "0              1993   75.0     150000            1   undefined  manual   \n",
       "1              2011  190.0     125000            2       coupe  manual   \n",
       "2              2004  163.0     125000            1         suv    auto   \n",
       "3              2001   75.0     150000            0       small  manual   \n",
       "4              2008   69.0      90000            0       small  manual   \n",
       "\n",
       "        Brand      Model  FuelType  RegistrationMonth    Price  \n",
       "0  volkswagen       golf    petrol                  0    480.0  \n",
       "1        audi  undefined  gasoline                  5  18300.0  \n",
       "2        jeep      grand  gasoline                  8   9800.0  \n",
       "3  volkswagen       golf    petrol                  6   1500.0  \n",
       "4       skoda      fabia  gasoline                  7   3600.0  "
      ]
     },
     "execution_count": 36,
     "metadata": {},
     "output_type": "execute_result"
    }
   ],
   "source": [
    "# выделим категориальные признаки\n",
    "# не забудем, что хоть речь и о числовом представлении, на самом деле месяц регистрации - это категория\n",
    "# однако т.к. выше мы обработали признак NotRepaired и фактически задали состояниям веса, его сюда не добавляем\n",
    "category_features = ['VehicleType', 'Gearbox', 'Brand', 'Model', 'FuelType', 'RegistrationMonth']\n",
    "\n",
    "# Также определим числовые признаки\n",
    "number_features = ['RegistrationYear', 'Power', 'Kilometer', 'NotRepaired']\n",
    "\n",
    "# Оставим в DF только то, что нужно (с обработкой категориальных признаков)\n",
    "df = df[number_features + category_features + ['Price']];\n",
    "df_simple = df.copy()\n",
    "df_simple.head()"
   ]
  },
  {
   "cell_type": "markdown",
   "metadata": {},
   "source": [
    "<div class=\"alert alert-success\">\n",
    "<h2> Комментарий ревьюера <a class=\"tocSkip\"> </h2>\n",
    "\n",
    "<b>Все отлично!👍:</b> \n",
    "    \n",
    "Молодец, что выделяешь категориальные и числовые признаки в переменные"
   ]
  },
  {
   "cell_type": "code",
   "execution_count": 37,
   "metadata": {},
   "outputs": [
    {
     "data": {
      "text/html": [
       "<div>\n",
       "<style scoped>\n",
       "    .dataframe tbody tr th:only-of-type {\n",
       "        vertical-align: middle;\n",
       "    }\n",
       "\n",
       "    .dataframe tbody tr th {\n",
       "        vertical-align: top;\n",
       "    }\n",
       "\n",
       "    .dataframe thead th {\n",
       "        text-align: right;\n",
       "    }\n",
       "</style>\n",
       "<table border=\"1\" class=\"dataframe\">\n",
       "  <thead>\n",
       "    <tr style=\"text-align: right;\">\n",
       "      <th></th>\n",
       "      <th>RegistrationYear</th>\n",
       "      <th>Power</th>\n",
       "      <th>Kilometer</th>\n",
       "      <th>NotRepaired</th>\n",
       "      <th>VehicleType</th>\n",
       "      <th>Gearbox</th>\n",
       "      <th>Brand</th>\n",
       "      <th>Model</th>\n",
       "      <th>FuelType</th>\n",
       "      <th>RegistrationMonth</th>\n",
       "    </tr>\n",
       "  </thead>\n",
       "  <tbody>\n",
       "    <tr>\n",
       "      <th>0</th>\n",
       "      <td>1993</td>\n",
       "      <td>75.0</td>\n",
       "      <td>150000</td>\n",
       "      <td>1</td>\n",
       "      <td>undefined</td>\n",
       "      <td>manual</td>\n",
       "      <td>volkswagen</td>\n",
       "      <td>golf</td>\n",
       "      <td>petrol</td>\n",
       "      <td>0</td>\n",
       "    </tr>\n",
       "    <tr>\n",
       "      <th>1</th>\n",
       "      <td>2011</td>\n",
       "      <td>190.0</td>\n",
       "      <td>125000</td>\n",
       "      <td>2</td>\n",
       "      <td>coupe</td>\n",
       "      <td>manual</td>\n",
       "      <td>audi</td>\n",
       "      <td>undefined</td>\n",
       "      <td>gasoline</td>\n",
       "      <td>5</td>\n",
       "    </tr>\n",
       "    <tr>\n",
       "      <th>2</th>\n",
       "      <td>2004</td>\n",
       "      <td>163.0</td>\n",
       "      <td>125000</td>\n",
       "      <td>1</td>\n",
       "      <td>suv</td>\n",
       "      <td>auto</td>\n",
       "      <td>jeep</td>\n",
       "      <td>grand</td>\n",
       "      <td>gasoline</td>\n",
       "      <td>8</td>\n",
       "    </tr>\n",
       "    <tr>\n",
       "      <th>3</th>\n",
       "      <td>2001</td>\n",
       "      <td>75.0</td>\n",
       "      <td>150000</td>\n",
       "      <td>0</td>\n",
       "      <td>small</td>\n",
       "      <td>manual</td>\n",
       "      <td>volkswagen</td>\n",
       "      <td>golf</td>\n",
       "      <td>petrol</td>\n",
       "      <td>6</td>\n",
       "    </tr>\n",
       "    <tr>\n",
       "      <th>4</th>\n",
       "      <td>2008</td>\n",
       "      <td>69.0</td>\n",
       "      <td>90000</td>\n",
       "      <td>0</td>\n",
       "      <td>small</td>\n",
       "      <td>manual</td>\n",
       "      <td>skoda</td>\n",
       "      <td>fabia</td>\n",
       "      <td>gasoline</td>\n",
       "      <td>7</td>\n",
       "    </tr>\n",
       "  </tbody>\n",
       "</table>\n",
       "</div>"
      ],
      "text/plain": [
       "   RegistrationYear  Power  Kilometer  NotRepaired VehicleType Gearbox  \\\n",
       "0              1993   75.0     150000            1   undefined  manual   \n",
       "1              2011  190.0     125000            2       coupe  manual   \n",
       "2              2004  163.0     125000            1         suv    auto   \n",
       "3              2001   75.0     150000            0       small  manual   \n",
       "4              2008   69.0      90000            0       small  manual   \n",
       "\n",
       "        Brand      Model  FuelType  RegistrationMonth  \n",
       "0  volkswagen       golf    petrol                  0  \n",
       "1        audi  undefined  gasoline                  5  \n",
       "2        jeep      grand  gasoline                  8  \n",
       "3  volkswagen       golf    petrol                  6  \n",
       "4       skoda      fabia  gasoline                  7  "
      ]
     },
     "execution_count": 37,
     "metadata": {},
     "output_type": "execute_result"
    }
   ],
   "source": [
    "# Разделим признаки\n",
    "features = df_simple.drop(columns='Price')\n",
    "target = df_simple['Price']\n",
    "\n",
    "# Подготовим наши категориальные признаки, будем использовать технику OHE, как более универсальную\n",
    "#features_ohe = pd.get_dummies(features, columns=category_features, drop_first=True)\n",
    "features.head()"
   ]
  },
  {
   "cell_type": "code",
   "execution_count": 38,
   "metadata": {},
   "outputs": [],
   "source": [
    "# Проведем скалирование числовых признаков\n",
    "#scaler = StandardScaler()\n",
    "\n",
    "#scaler.fit(features_ohe[number_features])\n",
    "#features_ohe_scaled = features_ohe.copy()\n",
    "#features_ohe_scaled[number_features] = scaler.transform(features_ohe_scaled[number_features])\n",
    "#features_ohe_scaled.head()"
   ]
  },
  {
   "cell_type": "markdown",
   "metadata": {},
   "source": [
    "<div class=\"alert alert-block alert-danger\">\n",
    "<h2> Комментарий ревьюера <a class=\"tocSkip\"></h2>\n",
    "\n",
    "\n",
    "<b>На доработку🤔:</b>\n",
    "\n",
    "Скейлеру нельзя показывать тестовую и валидационную выборку при fit - это делает метрики менее объективными."
   ]
  },
  {
   "cell_type": "markdown",
   "metadata": {},
   "source": [
    "<div class=\"alert alert-success\">\n",
    "\n",
    "<h2> Комментарий ревьюера 2 итерация <a class=\"tocSkip\"> </h2>\n",
    "\n",
    "Плюс"
   ]
  },
  {
   "cell_type": "markdown",
   "metadata": {},
   "source": [
    "<br>\n",
    "Исправлено\n",
    "</br>"
   ]
  },
  {
   "cell_type": "code",
   "execution_count": 39,
   "metadata": {},
   "outputs": [
    {
     "name": "stdout",
     "output_type": "stream",
     "text": [
      "Target test count = 69123, Valid count = 69122, Train test count = 207366\n"
     ]
    }
   ],
   "source": [
    "# Поделим нашу выборку в пропорции 75-25, т.к. параметры мы будем искать с помощью кросс-валидации через GridSearchCV\n",
    "# Соответственно, валидационная выборка в контексте задачи нам не пригодится\n",
    "# Вторая функция оставлена на всякий случай, т.к. изначально делал 3 выборки в рамках работы \n",
    "# (предполагал, что мы будем перепроверять итоговую модель на тесте, но решил, что это избыточно в рамках нашей задачи)\n",
    "\n",
    "def create_train_valid_and_test_set(features, target):\n",
    "    features_train, df_valid_ant_test_features, target_train, df_valid_ant_test_target = train_test_split(\n",
    "        features, target, test_size=0.4, random_state=RANDOM_STATE)\n",
    "\n",
    "    # теперь разделим тестовую выборку от валидационной\n",
    "    features_valid, features_test, target_valid, target_test = train_test_split(\n",
    "        df_valid_ant_test_features, df_valid_ant_test_target, test_size=0.5, random_state=RANDOM_STATE)\n",
    "\n",
    "    del df_valid_ant_test_features, df_valid_ant_test_target\n",
    "    \n",
    "    # Проверим, что получилось\n",
    "    print('Target test count = {}, Valid count = {}, Train test count = {}'.format(target_test.count(), target_valid.count(), target_train.count()))\n",
    "    \n",
    "    return features_train, target_train, features_valid, target_valid, features_test, target_test\n",
    "\n",
    "def create_train_and_test_set(features, target):\n",
    "    features_train, features_test, target_train, target_test = train_test_split(\n",
    "        features, target, test_size=0.25, random_state=RANDOM_STATE)\n",
    "    \n",
    "    # Проверим, что получилось\n",
    "    print('Target test count = {}, Train test count = {}'.format(target_test.count(), target_train.count()))\n",
    "    \n",
    "    return features_train, target_train, features_test, target_test\n",
    "\n",
    "features_train, target_train, features_val, target_val, features_test, target_test = create_train_valid_and_test_set(features, target)"
   ]
  },
  {
   "cell_type": "code",
   "execution_count": 40,
   "metadata": {},
   "outputs": [],
   "source": [
    "# Определим функцию для подсчета RMSE\n",
    "def rmse(target, predicted):\n",
    "    return mse(target, predicted) ** 0.5"
   ]
  },
  {
   "cell_type": "code",
   "execution_count": 41,
   "metadata": {},
   "outputs": [],
   "source": [
    "# Функция для возврата преобразователя значений для категориальных и численных признаков\n",
    "def getTransformer():\n",
    "    return make_column_transformer((StandardScaler(), number_features), (OneHotEncoder(handle_unknown = 'ignore'), category_features))"
   ]
  },
  {
   "cell_type": "markdown",
   "metadata": {},
   "source": [
    "Простые модели. Опробуем линейную регрессию и случайный лес\n",
    "\n",
    "<b>Случайный лес</b>"
   ]
  },
  {
   "cell_type": "code",
   "execution_count": 42,
   "metadata": {},
   "outputs": [
    {
     "name": "stdout",
     "output_type": "stream",
     "text": [
      "Best parameter (CV score=-4623392.159):\n",
      "{'forest__max_depth': 7, 'forest__min_samples_leaf': 1, 'forest__min_samples_split': 4, 'forest__n_estimators': 10}\n",
      "CPU times: total: 2min 52s\n",
      "Wall time: 2min 52s\n"
     ]
    }
   ],
   "source": [
    "%%time\n",
    "\n",
    "model = RandomForestRegressor()\n",
    "transformer = getTransformer()\n",
    "pipe = Pipeline(steps=[(\"transformer\", transformer), (\"forest\", model)])\n",
    "\n",
    "parameters = {\n",
    "    'forest__n_estimators': range(5,11,5),\n",
    "    'forest__max_depth': range(1,8,3),\n",
    "    'forest__min_samples_leaf': range(1,5,2),\n",
    "    'forest__min_samples_split': range(2,6,2)\n",
    "}\n",
    "\n",
    "grid = GridSearchCV(pipe, parameters, cv=3, scoring='neg_mean_squared_error')\n",
    "grid.fit(features_train, target_train)\n",
    "\n",
    "print(\"Best parameter (CV score=%0.3f):\" % grid.best_score_)\n",
    "print(grid.best_params_)\n",
    "# Чтобы не пересчитывать получившиеся параметры при доработках:\n",
    "# {'max_depth': 7,\n",
    "#  'min_samples_leaf': 3,\n",
    "#  'min_samples_split': 4,\n",
    "#  'n_estimators': 10}"
   ]
  },
  {
   "cell_type": "markdown",
   "metadata": {},
   "source": [
    "<div class=\"alert alert-block alert-danger\">\n",
    "<h2> Комментарий ревьюера <a class=\"tocSkip\"></h2>\n",
    "\n",
    "\n",
    "<b>На доработку🤔:</b>\n",
    "\n",
    "\n",
    "Кстати, если используешь векторизацию / стандартизацию без пайплайнов, то у нас происходит утечка во время кросс-валидации, так как модель векторайзера видела нашу тестовую выборку - результаты могут исказиться. Как это исправить? Либо выделять явно валидационную выборку, либо использовать пайплайны.\n",
    "    \n",
    "https://pythonguides.com/scikit-learn-pipeline/"
   ]
  },
  {
   "cell_type": "markdown",
   "metadata": {},
   "source": [
    "<div class=\"alert alert-success\">\n",
    "\n",
    "<h2> Комментарий ревьюера 2 итерация <a class=\"tocSkip\"> </h2>\n",
    "\n",
    "Супер!"
   ]
  },
  {
   "cell_type": "markdown",
   "metadata": {},
   "source": [
    "<br>\n",
    "Исправлено\n",
    "\n",
    "Теперь OHE и Стандарт скейлер находятся в одном пайплайне с каждой из моделей\n",
    "</br>"
   ]
  },
  {
   "cell_type": "code",
   "execution_count": 43,
   "metadata": {},
   "outputs": [],
   "source": [
    "# Чтобы не собирать вручную результаты, напишем класс, который будет сохранять время обучения, время предсказания и RMSE\n",
    "\n",
    "import time\n",
    "\n",
    "class ModelHelper:\n",
    "    def __init__(self, name, model):\n",
    "        \"\"\"Constructor\"\"\"\n",
    "        self.name = name\n",
    "        self.model = model\n",
    "    \n",
    "    def fit(self, features, target):\n",
    "        start = time.time()    \n",
    "        self.model.fit(features, target)\n",
    "        end = time.time() - start\n",
    "        self.fitTime = end\n",
    "    \n",
    "    def predict(self, features, target):\n",
    "        start = time.time()  \n",
    "        predicted = self.model.predict(features)\n",
    "        end = time.time() - start\n",
    "        self.predictedTime = end\n",
    "        self.rmse = rmse(target, predicted)\n",
    "    \n",
    "    def getResult(self):\n",
    "        return self.name, self.fitTime, self.predictedTime, self.rmse"
   ]
  },
  {
   "cell_type": "markdown",
   "metadata": {},
   "source": [
    "<div class=\"alert alert-success\">\n",
    "<h2> Комментарий ревьюера <a class=\"tocSkip\"> </h2>\n",
    "\n",
    "<b>Все отлично!👍:</b> \n",
    "    \n",
    "Плюс за использование класса"
   ]
  },
  {
   "cell_type": "code",
   "execution_count": 44,
   "metadata": {},
   "outputs": [],
   "source": [
    "# Создадим переменную, где будут храниться результаты\n",
    "    \n",
    "result = []"
   ]
  },
  {
   "cell_type": "code",
   "execution_count": 45,
   "metadata": {},
   "outputs": [],
   "source": [
    "# И создадим функцию для вывода по красоте\n",
    "def print_result(result):\n",
    "    print('|{: >20}|{: >18}|{: >18}|{: >12}|'.format('Модель', 'Время обучения', 'Время предсказания', 'RMSE'))\n",
    "    for info in result:\n",
    "        print('|{: >20}|{: >18.5f}|{: >18.5f}|{: >12.5f}|'.format(info[0], info[1], info[2], info[3]))"
   ]
  },
  {
   "cell_type": "code",
   "execution_count": 46,
   "metadata": {},
   "outputs": [],
   "source": [
    "# Проверим наш случайный лес\n",
    "model_forest = RandomForestRegressor(max_depth=7, min_samples_leaf=3, min_samples_split=2, n_estimators=10, random_state=RANDOM_STATE)\n",
    "model_forest_helper = ModelHelper('Random forest', Pipeline(steps=[(\"transformer\", getTransformer()), (\"forest\", model_forest)]))\n",
    "model_forest_helper.fit(features_train, target_train)\n",
    "model_forest_helper.predict(features_val, target_val)\n",
    "result.append(model_forest_helper.getResult())"
   ]
  },
  {
   "cell_type": "markdown",
   "metadata": {},
   "source": [
    "<b>Линейная регрессия</b>"
   ]
  },
  {
   "cell_type": "code",
   "execution_count": 47,
   "metadata": {},
   "outputs": [],
   "source": [
    "# Попробуем линейную регрессию\n",
    "model_lr = LinearRegression()\n",
    "model_lr_helper = ModelHelper('Linear regression', Pipeline(steps=[(\"transformer\", getTransformer()), (\"linear regressor\", model_lr)]))\n",
    "model_lr_helper.fit(features_train, target_train)\n",
    "model_lr_helper.predict(features_val, target_val)\n",
    "result.append(model_lr_helper.getResult())"
   ]
  },
  {
   "cell_type": "markdown",
   "metadata": {},
   "source": [
    "<div class=\"alert alert-block alert-danger\">\n",
    "<h2> Комментарий ревьюера<a class=\"tocSkip\"> </h2>\n",
    "\n",
    "<b>На доработку🤔:</b>\n",
    "\n",
    "Тестовую выборку мы используем в самом конце для \"подведения итогов\" после выбора лучшей модели. Выбор моделей происходит путем сравнения метрик на кросс валидации или же валидационной выборке. Это делается для того, чтобы мы даже незначительным образом не \"подгонялись\" под тестовую выборку. Все же если мы будем выбирать алгоритм, исходя из того, какой из них лучше сразу на тестовой выборке, то тут уже есть небольшая часть \"подгона\""
   ]
  },
  {
   "cell_type": "markdown",
   "metadata": {},
   "source": [
    "Исправлено\n",
    "\n",
    "Модели проверяются на данных валидации, а на тестовых проверяем модель с наилучшими показателями"
   ]
  },
  {
   "cell_type": "code",
   "execution_count": 48,
   "metadata": {},
   "outputs": [
    {
     "name": "stdout",
     "output_type": "stream",
     "text": [
      "|              Модель|    Время обучения|Время предсказания|        RMSE|\n",
      "|       Random forest|           9.45873|           0.12564|  2146.30483|\n",
      "|   Linear regression|           3.29961|           0.08580|  3090.64491|\n"
     ]
    }
   ],
   "source": [
    "# Посмотрим на промежуточный результат\n",
    "print_result(result)"
   ]
  },
  {
   "cell_type": "markdown",
   "metadata": {},
   "source": [
    "<b>Библиотеки для градиентного бустинга</b>\n",
    "\n",
    "Фактически, CatBoost будет использовать OHE при передаче категориальных признаков. Это означает, что мы могли бы воспользоваться уже имеющимися features и target (т.к. именно так мы их и обработали). Однако, LightGBM использует какой-то другой свой алгоритм, который, в теории, может быть быстрее. Однако, он не переваривает строки в категориальных признаках.\n",
    "\n",
    "Раз уж мы сравниваем две разные библиотеки, будет правильно создать им равные возможности и посмотреть на что они способны без нашей помощи. А значит, мы проведем дополнительную работу и сделаем следующим образом:\n",
    "\n",
    "1. Возьмем наш итоговый обработанный датасет\n",
    "2. Отскалируем снова числовые признаки\n",
    "3. А вот категориальные признаки для LightGBM будем готовить с помощью OrdinalEncoding\n",
    "4. Для CatBoost ничего готовить не будем и передадим категориальные признаки, как есть\n",
    "\n",
    "И посмотрим, что получится."
   ]
  },
  {
   "cell_type": "code",
   "execution_count": 49,
   "metadata": {},
   "outputs": [],
   "source": [
    "pd.options.mode.chained_assignment = None\n",
    "\n",
    "# Подготовим заново признаки для бустинга\n",
    "#features = df.drop(columns='Price')\n",
    "#target = df['Price']\n",
    "\n",
    "# Разделим выборку на обучающую и тестовую\n",
    "#features_train, target_train, features_test, target_test = create_train_and_test_set(features, target)\n",
    "\n",
    "# Проведем скалирование\n",
    "#scaler = StandardScaler()\n",
    "#scaler.fit(features_train[number_features])\n",
    "#features_train[number_features] = scaler.transform(features_train[number_features])\n",
    "#features_test[number_features] = scaler.transform(features_test[number_features])\n",
    "\n",
    "#features_train.head()"
   ]
  },
  {
   "cell_type": "code",
   "execution_count": 50,
   "metadata": {},
   "outputs": [],
   "source": [
    "# Для GBM дополнительно обработаем категориальные признаки\n",
    "\n",
    "#features_train_gbm = features_train.copy()\n",
    "#features_test_gbm = features_test.copy()\n",
    "# Месяц регистрации преобразовывать не нужно\n",
    "#category_features_gbm = ['VehicleType', 'Gearbox', 'Brand', 'Model', 'FuelType']\n",
    "\n",
    "#encoder = OrdinalEncoder()\n",
    "#encoder.fit(features_train_gbm[category_features_gbm])\n",
    "#features_train_gbm[category_features_gbm] = encoder.transform(features_train_gbm[category_features_gbm])\n",
    "#features_test_gbm[category_features_gbm] = encoder.transform(features_test_gbm[category_features_gbm])\n",
    "\n",
    "#features_train_gbm.head()\n"
   ]
  },
  {
   "cell_type": "markdown",
   "metadata": {},
   "source": [
    "<div class=\"alert alert-block alert-danger\">\n",
    "<h2> Комментарий ревьюера <a class=\"tocSkip\"></h2>\n",
    "\n",
    "\n",
    "<b>На доработку🤔:</b>\n",
    "\n",
    "Переопределение выборок (хоть они и остаются такими же благодаря random_state) - ужасная практика. Если здесь произойдет ошибка, то её очень сложно отследить. Плюс это очень сильно путает и уменьшает читабельность. Выборка должна определяться один раз. Можно определить её в качестве индексов - тогда использование индексов позволит обращаться к разным массивам с сохранением структуры тренировочной и тестовой выборок."
   ]
  },
  {
   "cell_type": "markdown",
   "metadata": {},
   "source": [
    "<br>\n",
    "Исправлено\n",
    "</br>"
   ]
  },
  {
   "cell_type": "markdown",
   "metadata": {},
   "source": [
    "<div class=\"alert alert-success\">\n",
    "\n",
    "<h2> Комментарий ревьюера 2 итерация <a class=\"tocSkip\"> </h2>\n",
    "\n",
    "Плюс\n",
    "    "
   ]
  },
  {
   "cell_type": "markdown",
   "metadata": {},
   "source": [
    "<b>LightGBM</b>"
   ]
  },
  {
   "cell_type": "code",
   "execution_count": 51,
   "metadata": {},
   "outputs": [
    {
     "name": "stdout",
     "output_type": "stream",
     "text": [
      "[LightGBM] [Warning] Auto-choosing row-wise multi-threading, the overhead of testing was 0.003238 seconds.\n",
      "You can set `force_row_wise=true` to remove the overhead.\n",
      "And if memory is not enough, you can set `force_col_wise=true`.\n",
      "[LightGBM] [Warning] Auto-choosing row-wise multi-threading, the overhead of testing was 0.003016 seconds.\n",
      "You can set `force_row_wise=true` to remove the overhead.\n",
      "And if memory is not enough, you can set `force_col_wise=true`.\n",
      "[LightGBM] [Warning] Auto-choosing row-wise multi-threading, the overhead of testing was 0.003114 seconds.\n",
      "You can set `force_row_wise=true` to remove the overhead.\n",
      "And if memory is not enough, you can set `force_col_wise=true`.\n",
      "[LightGBM] [Warning] Auto-choosing row-wise multi-threading, the overhead of testing was 0.002975 seconds.\n",
      "You can set `force_row_wise=true` to remove the overhead.\n",
      "And if memory is not enough, you can set `force_col_wise=true`.\n",
      "[LightGBM] [Warning] Auto-choosing row-wise multi-threading, the overhead of testing was 0.003186 seconds.\n",
      "You can set `force_row_wise=true` to remove the overhead.\n",
      "And if memory is not enough, you can set `force_col_wise=true`.\n",
      "[LightGBM] [Warning] Auto-choosing row-wise multi-threading, the overhead of testing was 0.003713 seconds.\n",
      "You can set `force_row_wise=true` to remove the overhead.\n",
      "And if memory is not enough, you can set `force_col_wise=true`.\n",
      "[LightGBM] [Warning] Auto-choosing row-wise multi-threading, the overhead of testing was 0.003466 seconds.\n",
      "You can set `force_row_wise=true` to remove the overhead.\n",
      "And if memory is not enough, you can set `force_col_wise=true`.\n",
      "[LightGBM] [Warning] Auto-choosing row-wise multi-threading, the overhead of testing was 0.002847 seconds.\n",
      "You can set `force_row_wise=true` to remove the overhead.\n",
      "And if memory is not enough, you can set `force_col_wise=true`.\n",
      "[LightGBM] [Warning] Auto-choosing row-wise multi-threading, the overhead of testing was 0.003326 seconds.\n",
      "You can set `force_row_wise=true` to remove the overhead.\n",
      "And if memory is not enough, you can set `force_col_wise=true`.\n",
      "[LightGBM] [Warning] Auto-choosing row-wise multi-threading, the overhead of testing was 0.003007 seconds.\n",
      "You can set `force_row_wise=true` to remove the overhead.\n",
      "And if memory is not enough, you can set `force_col_wise=true`.\n",
      "[LightGBM] [Warning] Auto-choosing row-wise multi-threading, the overhead of testing was 0.003050 seconds.\n",
      "You can set `force_row_wise=true` to remove the overhead.\n",
      "And if memory is not enough, you can set `force_col_wise=true`.\n",
      "[LightGBM] [Warning] Auto-choosing row-wise multi-threading, the overhead of testing was 0.002924 seconds.\n",
      "You can set `force_row_wise=true` to remove the overhead.\n",
      "And if memory is not enough, you can set `force_col_wise=true`.\n",
      "[LightGBM] [Warning] Auto-choosing row-wise multi-threading, the overhead of testing was 0.002609 seconds.\n",
      "You can set `force_row_wise=true` to remove the overhead.\n",
      "And if memory is not enough, you can set `force_col_wise=true`.\n",
      "[LightGBM] [Warning] Auto-choosing row-wise multi-threading, the overhead of testing was 0.002925 seconds.\n",
      "You can set `force_row_wise=true` to remove the overhead.\n",
      "And if memory is not enough, you can set `force_col_wise=true`.\n",
      "[LightGBM] [Warning] Auto-choosing row-wise multi-threading, the overhead of testing was 0.003077 seconds.\n",
      "You can set `force_row_wise=true` to remove the overhead.\n",
      "And if memory is not enough, you can set `force_col_wise=true`.\n",
      "[LightGBM] [Warning] Auto-choosing row-wise multi-threading, the overhead of testing was 0.003282 seconds.\n",
      "You can set `force_row_wise=true` to remove the overhead.\n",
      "And if memory is not enough, you can set `force_col_wise=true`.\n",
      "[LightGBM] [Warning] Auto-choosing row-wise multi-threading, the overhead of testing was 0.003088 seconds.\n",
      "You can set `force_row_wise=true` to remove the overhead.\n",
      "And if memory is not enough, you can set `force_col_wise=true`.\n",
      "[LightGBM] [Warning] Auto-choosing row-wise multi-threading, the overhead of testing was 0.002821 seconds.\n",
      "You can set `force_row_wise=true` to remove the overhead.\n",
      "And if memory is not enough, you can set `force_col_wise=true`.\n",
      "[LightGBM] [Warning] Auto-choosing row-wise multi-threading, the overhead of testing was 0.003679 seconds.\n",
      "You can set `force_row_wise=true` to remove the overhead.\n",
      "And if memory is not enough, you can set `force_col_wise=true`.\n",
      "[LightGBM] [Warning] Auto-choosing row-wise multi-threading, the overhead of testing was 0.003553 seconds.\n",
      "You can set `force_row_wise=true` to remove the overhead.\n",
      "And if memory is not enough, you can set `force_col_wise=true`.\n",
      "[LightGBM] [Warning] Auto-choosing row-wise multi-threading, the overhead of testing was 0.003072 seconds.\n",
      "You can set `force_row_wise=true` to remove the overhead.\n",
      "And if memory is not enough, you can set `force_col_wise=true`.\n",
      "[LightGBM] [Warning] Auto-choosing row-wise multi-threading, the overhead of testing was 0.003132 seconds.\n",
      "You can set `force_row_wise=true` to remove the overhead.\n",
      "And if memory is not enough, you can set `force_col_wise=true`.\n",
      "[LightGBM] [Warning] Auto-choosing row-wise multi-threading, the overhead of testing was 0.003332 seconds.\n",
      "You can set `force_row_wise=true` to remove the overhead.\n",
      "And if memory is not enough, you can set `force_col_wise=true`.\n",
      "[LightGBM] [Warning] Auto-choosing row-wise multi-threading, the overhead of testing was 0.003259 seconds.\n",
      "You can set `force_row_wise=true` to remove the overhead.\n",
      "And if memory is not enough, you can set `force_col_wise=true`.\n",
      "[LightGBM] [Warning] Auto-choosing row-wise multi-threading, the overhead of testing was 0.002664 seconds.\n",
      "You can set `force_row_wise=true` to remove the overhead.\n",
      "And if memory is not enough, you can set `force_col_wise=true`.\n",
      "[LightGBM] [Warning] Auto-choosing row-wise multi-threading, the overhead of testing was 0.003534 seconds.\n",
      "You can set `force_row_wise=true` to remove the overhead.\n",
      "And if memory is not enough, you can set `force_col_wise=true`.\n",
      "[LightGBM] [Warning] Auto-choosing row-wise multi-threading, the overhead of testing was 0.003462 seconds.\n",
      "You can set `force_row_wise=true` to remove the overhead.\n",
      "And if memory is not enough, you can set `force_col_wise=true`.\n",
      "[LightGBM] [Warning] Auto-choosing row-wise multi-threading, the overhead of testing was 0.003309 seconds.\n",
      "You can set `force_row_wise=true` to remove the overhead.\n",
      "And if memory is not enough, you can set `force_col_wise=true`.\n",
      "[LightGBM] [Warning] Auto-choosing row-wise multi-threading, the overhead of testing was 0.004279 seconds.\n",
      "You can set `force_row_wise=true` to remove the overhead.\n",
      "And if memory is not enough, you can set `force_col_wise=true`.\n",
      "[LightGBM] [Warning] Auto-choosing row-wise multi-threading, the overhead of testing was 0.003910 seconds.\n",
      "You can set `force_row_wise=true` to remove the overhead.\n",
      "And if memory is not enough, you can set `force_col_wise=true`.\n",
      "[LightGBM] [Warning] Auto-choosing row-wise multi-threading, the overhead of testing was 0.004133 seconds.\n",
      "You can set `force_row_wise=true` to remove the overhead.\n",
      "And if memory is not enough, you can set `force_col_wise=true`.\n",
      "[LightGBM] [Warning] Auto-choosing row-wise multi-threading, the overhead of testing was 0.004931 seconds.\n",
      "You can set `force_row_wise=true` to remove the overhead.\n",
      "And if memory is not enough, you can set `force_col_wise=true`.\n",
      "[LightGBM] [Warning] Auto-choosing row-wise multi-threading, the overhead of testing was 0.003878 seconds.\n",
      "You can set `force_row_wise=true` to remove the overhead.\n",
      "And if memory is not enough, you can set `force_col_wise=true`.\n",
      "[LightGBM] [Warning] Auto-choosing row-wise multi-threading, the overhead of testing was 0.003907 seconds.\n",
      "You can set `force_row_wise=true` to remove the overhead.\n",
      "And if memory is not enough, you can set `force_col_wise=true`.\n",
      "[LightGBM] [Warning] Auto-choosing row-wise multi-threading, the overhead of testing was 0.004047 seconds.\n",
      "You can set `force_row_wise=true` to remove the overhead.\n",
      "And if memory is not enough, you can set `force_col_wise=true`.\n",
      "[LightGBM] [Warning] Auto-choosing row-wise multi-threading, the overhead of testing was 0.003860 seconds.\n",
      "You can set `force_row_wise=true` to remove the overhead.\n",
      "And if memory is not enough, you can set `force_col_wise=true`.\n"
     ]
    },
    {
     "name": "stdout",
     "output_type": "stream",
     "text": [
      "[LightGBM] [Warning] Auto-choosing row-wise multi-threading, the overhead of testing was 0.003811 seconds.\n",
      "You can set `force_row_wise=true` to remove the overhead.\n",
      "And if memory is not enough, you can set `force_col_wise=true`.\n",
      "[LightGBM] [Warning] Auto-choosing row-wise multi-threading, the overhead of testing was 0.004194 seconds.\n",
      "You can set `force_row_wise=true` to remove the overhead.\n",
      "And if memory is not enough, you can set `force_col_wise=true`.\n",
      "[LightGBM] [Warning] Auto-choosing row-wise multi-threading, the overhead of testing was 0.003907 seconds.\n",
      "You can set `force_row_wise=true` to remove the overhead.\n",
      "And if memory is not enough, you can set `force_col_wise=true`.\n",
      "[LightGBM] [Warning] Auto-choosing row-wise multi-threading, the overhead of testing was 0.004325 seconds.\n",
      "You can set `force_row_wise=true` to remove the overhead.\n",
      "And if memory is not enough, you can set `force_col_wise=true`.\n",
      "[LightGBM] [Warning] Auto-choosing row-wise multi-threading, the overhead of testing was 0.004684 seconds.\n",
      "You can set `force_row_wise=true` to remove the overhead.\n",
      "And if memory is not enough, you can set `force_col_wise=true`.\n",
      "[LightGBM] [Warning] Auto-choosing row-wise multi-threading, the overhead of testing was 0.003641 seconds.\n",
      "You can set `force_row_wise=true` to remove the overhead.\n",
      "And if memory is not enough, you can set `force_col_wise=true`.\n",
      "[LightGBM] [Warning] Auto-choosing row-wise multi-threading, the overhead of testing was 0.003935 seconds.\n",
      "You can set `force_row_wise=true` to remove the overhead.\n",
      "And if memory is not enough, you can set `force_col_wise=true`.\n",
      "[LightGBM] [Warning] Auto-choosing row-wise multi-threading, the overhead of testing was 0.003992 seconds.\n",
      "You can set `force_row_wise=true` to remove the overhead.\n",
      "And if memory is not enough, you can set `force_col_wise=true`.\n",
      "[LightGBM] [Warning] Auto-choosing row-wise multi-threading, the overhead of testing was 0.003842 seconds.\n",
      "You can set `force_row_wise=true` to remove the overhead.\n",
      "And if memory is not enough, you can set `force_col_wise=true`.\n",
      "[LightGBM] [Warning] Auto-choosing row-wise multi-threading, the overhead of testing was 0.004118 seconds.\n",
      "You can set `force_row_wise=true` to remove the overhead.\n",
      "And if memory is not enough, you can set `force_col_wise=true`.\n",
      "[LightGBM] [Warning] Auto-choosing row-wise multi-threading, the overhead of testing was 0.003895 seconds.\n",
      "You can set `force_row_wise=true` to remove the overhead.\n",
      "And if memory is not enough, you can set `force_col_wise=true`.\n",
      "[LightGBM] [Warning] Auto-choosing row-wise multi-threading, the overhead of testing was 0.003877 seconds.\n",
      "You can set `force_row_wise=true` to remove the overhead.\n",
      "And if memory is not enough, you can set `force_col_wise=true`.\n",
      "[LightGBM] [Warning] Auto-choosing row-wise multi-threading, the overhead of testing was 0.003723 seconds.\n",
      "You can set `force_row_wise=true` to remove the overhead.\n",
      "And if memory is not enough, you can set `force_col_wise=true`.\n",
      "[LightGBM] [Warning] Auto-choosing row-wise multi-threading, the overhead of testing was 0.003565 seconds.\n",
      "You can set `force_row_wise=true` to remove the overhead.\n",
      "And if memory is not enough, you can set `force_col_wise=true`.\n",
      "[LightGBM] [Warning] Auto-choosing row-wise multi-threading, the overhead of testing was 0.003198 seconds.\n",
      "You can set `force_row_wise=true` to remove the overhead.\n",
      "And if memory is not enough, you can set `force_col_wise=true`.\n",
      "[LightGBM] [Warning] Auto-choosing row-wise multi-threading, the overhead of testing was 0.003552 seconds.\n",
      "You can set `force_row_wise=true` to remove the overhead.\n",
      "And if memory is not enough, you can set `force_col_wise=true`.\n",
      "[LightGBM] [Warning] Auto-choosing row-wise multi-threading, the overhead of testing was 0.003941 seconds.\n",
      "You can set `force_row_wise=true` to remove the overhead.\n",
      "And if memory is not enough, you can set `force_col_wise=true`.\n",
      "[LightGBM] [Warning] Auto-choosing row-wise multi-threading, the overhead of testing was 0.003762 seconds.\n",
      "You can set `force_row_wise=true` to remove the overhead.\n",
      "And if memory is not enough, you can set `force_col_wise=true`.\n",
      "[LightGBM] [Warning] Auto-choosing row-wise multi-threading, the overhead of testing was 0.003851 seconds.\n",
      "You can set `force_row_wise=true` to remove the overhead.\n",
      "And if memory is not enough, you can set `force_col_wise=true`.\n",
      "[LightGBM] [Warning] Auto-choosing row-wise multi-threading, the overhead of testing was 0.003603 seconds.\n",
      "You can set `force_row_wise=true` to remove the overhead.\n",
      "And if memory is not enough, you can set `force_col_wise=true`.\n",
      "[LightGBM] [Warning] Auto-choosing row-wise multi-threading, the overhead of testing was 0.003664 seconds.\n",
      "You can set `force_row_wise=true` to remove the overhead.\n",
      "And if memory is not enough, you can set `force_col_wise=true`.\n",
      "[LightGBM] [Warning] Auto-choosing row-wise multi-threading, the overhead of testing was 0.003445 seconds.\n",
      "You can set `force_row_wise=true` to remove the overhead.\n",
      "And if memory is not enough, you can set `force_col_wise=true`.\n",
      "[LightGBM] [Warning] Auto-choosing row-wise multi-threading, the overhead of testing was 0.003599 seconds.\n",
      "You can set `force_row_wise=true` to remove the overhead.\n",
      "And if memory is not enough, you can set `force_col_wise=true`.\n",
      "[LightGBM] [Warning] Auto-choosing row-wise multi-threading, the overhead of testing was 0.003111 seconds.\n",
      "You can set `force_row_wise=true` to remove the overhead.\n",
      "And if memory is not enough, you can set `force_col_wise=true`.\n",
      "[LightGBM] [Warning] Auto-choosing row-wise multi-threading, the overhead of testing was 0.003999 seconds.\n",
      "You can set `force_row_wise=true` to remove the overhead.\n",
      "And if memory is not enough, you can set `force_col_wise=true`.\n",
      "[LightGBM] [Warning] Auto-choosing row-wise multi-threading, the overhead of testing was 0.003827 seconds.\n",
      "You can set `force_row_wise=true` to remove the overhead.\n",
      "And if memory is not enough, you can set `force_col_wise=true`.\n",
      "[LightGBM] [Warning] Auto-choosing row-wise multi-threading, the overhead of testing was 0.002906 seconds.\n",
      "You can set `force_row_wise=true` to remove the overhead.\n",
      "And if memory is not enough, you can set `force_col_wise=true`.\n",
      "[LightGBM] [Warning] Auto-choosing row-wise multi-threading, the overhead of testing was 0.002846 seconds.\n",
      "You can set `force_row_wise=true` to remove the overhead.\n",
      "And if memory is not enough, you can set `force_col_wise=true`.\n",
      "[LightGBM] [Warning] Auto-choosing row-wise multi-threading, the overhead of testing was 0.002955 seconds.\n",
      "You can set `force_row_wise=true` to remove the overhead.\n",
      "And if memory is not enough, you can set `force_col_wise=true`.\n",
      "[LightGBM] [Warning] Auto-choosing row-wise multi-threading, the overhead of testing was 0.002874 seconds.\n",
      "You can set `force_row_wise=true` to remove the overhead.\n",
      "And if memory is not enough, you can set `force_col_wise=true`.\n",
      "[LightGBM] [Warning] Auto-choosing row-wise multi-threading, the overhead of testing was 0.003223 seconds.\n",
      "You can set `force_row_wise=true` to remove the overhead.\n",
      "And if memory is not enough, you can set `force_col_wise=true`.\n",
      "[LightGBM] [Warning] Auto-choosing row-wise multi-threading, the overhead of testing was 0.003506 seconds.\n",
      "You can set `force_row_wise=true` to remove the overhead.\n",
      "And if memory is not enough, you can set `force_col_wise=true`.\n",
      "[LightGBM] [Warning] Auto-choosing row-wise multi-threading, the overhead of testing was 0.003452 seconds.\n",
      "You can set `force_row_wise=true` to remove the overhead.\n",
      "And if memory is not enough, you can set `force_col_wise=true`.\n",
      "[LightGBM] [Warning] Auto-choosing row-wise multi-threading, the overhead of testing was 0.003104 seconds.\n",
      "You can set `force_row_wise=true` to remove the overhead.\n",
      "And if memory is not enough, you can set `force_col_wise=true`.\n",
      "[LightGBM] [Warning] Auto-choosing row-wise multi-threading, the overhead of testing was 0.002840 seconds.\n",
      "You can set `force_row_wise=true` to remove the overhead.\n",
      "And if memory is not enough, you can set `force_col_wise=true`.\n",
      "[LightGBM] [Warning] Auto-choosing row-wise multi-threading, the overhead of testing was 0.002839 seconds.\n",
      "You can set `force_row_wise=true` to remove the overhead.\n",
      "And if memory is not enough, you can set `force_col_wise=true`.\n"
     ]
    },
    {
     "name": "stdout",
     "output_type": "stream",
     "text": [
      "[LightGBM] [Warning] Auto-choosing row-wise multi-threading, the overhead of testing was 0.003760 seconds.\n",
      "You can set `force_row_wise=true` to remove the overhead.\n",
      "And if memory is not enough, you can set `force_col_wise=true`.\n",
      "[LightGBM] [Warning] Auto-choosing row-wise multi-threading, the overhead of testing was 0.002881 seconds.\n",
      "You can set `force_row_wise=true` to remove the overhead.\n",
      "And if memory is not enough, you can set `force_col_wise=true`.\n",
      "[LightGBM] [Warning] Auto-choosing row-wise multi-threading, the overhead of testing was 0.002730 seconds.\n",
      "You can set `force_row_wise=true` to remove the overhead.\n",
      "And if memory is not enough, you can set `force_col_wise=true`.\n",
      "[LightGBM] [Warning] Auto-choosing row-wise multi-threading, the overhead of testing was 0.002818 seconds.\n",
      "You can set `force_row_wise=true` to remove the overhead.\n",
      "And if memory is not enough, you can set `force_col_wise=true`.\n",
      "[LightGBM] [Warning] Auto-choosing row-wise multi-threading, the overhead of testing was 0.003050 seconds.\n",
      "You can set `force_row_wise=true` to remove the overhead.\n",
      "And if memory is not enough, you can set `force_col_wise=true`.\n",
      "[LightGBM] [Warning] Auto-choosing row-wise multi-threading, the overhead of testing was 0.002979 seconds.\n",
      "You can set `force_row_wise=true` to remove the overhead.\n",
      "And if memory is not enough, you can set `force_col_wise=true`.\n",
      "[LightGBM] [Warning] Auto-choosing row-wise multi-threading, the overhead of testing was 0.002981 seconds.\n",
      "You can set `force_row_wise=true` to remove the overhead.\n",
      "And if memory is not enough, you can set `force_col_wise=true`.\n",
      "[LightGBM] [Warning] Auto-choosing row-wise multi-threading, the overhead of testing was 0.003593 seconds.\n",
      "You can set `force_row_wise=true` to remove the overhead.\n",
      "And if memory is not enough, you can set `force_col_wise=true`.\n",
      "[LightGBM] [Warning] Auto-choosing row-wise multi-threading, the overhead of testing was 0.003551 seconds.\n",
      "You can set `force_row_wise=true` to remove the overhead.\n",
      "And if memory is not enough, you can set `force_col_wise=true`.\n",
      "[LightGBM] [Warning] Auto-choosing row-wise multi-threading, the overhead of testing was 0.003482 seconds.\n",
      "You can set `force_row_wise=true` to remove the overhead.\n",
      "And if memory is not enough, you can set `force_col_wise=true`.\n",
      "[LightGBM] [Warning] Auto-choosing row-wise multi-threading, the overhead of testing was 0.003068 seconds.\n",
      "You can set `force_row_wise=true` to remove the overhead.\n",
      "And if memory is not enough, you can set `force_col_wise=true`.\n",
      "[LightGBM] [Warning] Auto-choosing row-wise multi-threading, the overhead of testing was 0.003528 seconds.\n",
      "You can set `force_row_wise=true` to remove the overhead.\n",
      "And if memory is not enough, you can set `force_col_wise=true`.\n",
      "[LightGBM] [Warning] Auto-choosing row-wise multi-threading, the overhead of testing was 0.003499 seconds.\n",
      "You can set `force_row_wise=true` to remove the overhead.\n",
      "And if memory is not enough, you can set `force_col_wise=true`.\n",
      "[LightGBM] [Warning] Auto-choosing row-wise multi-threading, the overhead of testing was 0.002800 seconds.\n",
      "You can set `force_row_wise=true` to remove the overhead.\n",
      "And if memory is not enough, you can set `force_col_wise=true`.\n",
      "[LightGBM] [Warning] Auto-choosing row-wise multi-threading, the overhead of testing was 0.002857 seconds.\n",
      "You can set `force_row_wise=true` to remove the overhead.\n",
      "And if memory is not enough, you can set `force_col_wise=true`.\n",
      "[LightGBM] [Warning] Auto-choosing row-wise multi-threading, the overhead of testing was 0.002946 seconds.\n",
      "You can set `force_row_wise=true` to remove the overhead.\n",
      "And if memory is not enough, you can set `force_col_wise=true`.\n",
      "[LightGBM] [Warning] Auto-choosing row-wise multi-threading, the overhead of testing was 0.003200 seconds.\n",
      "You can set `force_row_wise=true` to remove the overhead.\n",
      "And if memory is not enough, you can set `force_col_wise=true`.\n",
      "[LightGBM] [Warning] Auto-choosing row-wise multi-threading, the overhead of testing was 0.003849 seconds.\n",
      "You can set `force_row_wise=true` to remove the overhead.\n",
      "And if memory is not enough, you can set `force_col_wise=true`.\n",
      "[LightGBM] [Warning] Auto-choosing row-wise multi-threading, the overhead of testing was 0.002912 seconds.\n",
      "You can set `force_row_wise=true` to remove the overhead.\n",
      "And if memory is not enough, you can set `force_col_wise=true`.\n",
      "[LightGBM] [Warning] Auto-choosing row-wise multi-threading, the overhead of testing was 0.002683 seconds.\n",
      "You can set `force_row_wise=true` to remove the overhead.\n",
      "And if memory is not enough, you can set `force_col_wise=true`.\n",
      "[LightGBM] [Warning] Auto-choosing row-wise multi-threading, the overhead of testing was 0.003083 seconds.\n",
      "You can set `force_row_wise=true` to remove the overhead.\n",
      "And if memory is not enough, you can set `force_col_wise=true`.\n",
      "[LightGBM] [Warning] Auto-choosing row-wise multi-threading, the overhead of testing was 0.002917 seconds.\n",
      "You can set `force_row_wise=true` to remove the overhead.\n",
      "And if memory is not enough, you can set `force_col_wise=true`.\n",
      "[LightGBM] [Warning] Auto-choosing row-wise multi-threading, the overhead of testing was 0.003942 seconds.\n",
      "You can set `force_row_wise=true` to remove the overhead.\n",
      "And if memory is not enough, you can set `force_col_wise=true`.\n",
      "[LightGBM] [Warning] Auto-choosing row-wise multi-threading, the overhead of testing was 0.002822 seconds.\n",
      "You can set `force_row_wise=true` to remove the overhead.\n",
      "And if memory is not enough, you can set `force_col_wise=true`.\n",
      "[LightGBM] [Warning] Auto-choosing row-wise multi-threading, the overhead of testing was 0.002930 seconds.\n",
      "You can set `force_row_wise=true` to remove the overhead.\n",
      "And if memory is not enough, you can set `force_col_wise=true`.\n",
      "[LightGBM] [Warning] Auto-choosing row-wise multi-threading, the overhead of testing was 0.002740 seconds.\n",
      "You can set `force_row_wise=true` to remove the overhead.\n",
      "And if memory is not enough, you can set `force_col_wise=true`.\n",
      "[LightGBM] [Warning] Auto-choosing row-wise multi-threading, the overhead of testing was 0.002493 seconds.\n",
      "You can set `force_row_wise=true` to remove the overhead.\n",
      "And if memory is not enough, you can set `force_col_wise=true`.\n",
      "[LightGBM] [Warning] Auto-choosing row-wise multi-threading, the overhead of testing was 0.002810 seconds.\n",
      "You can set `force_row_wise=true` to remove the overhead.\n",
      "And if memory is not enough, you can set `force_col_wise=true`.\n",
      "[LightGBM] [Warning] Auto-choosing row-wise multi-threading, the overhead of testing was 0.003044 seconds.\n",
      "You can set `force_row_wise=true` to remove the overhead.\n",
      "And if memory is not enough, you can set `force_col_wise=true`.\n",
      "[LightGBM] [Warning] Auto-choosing row-wise multi-threading, the overhead of testing was 0.003365 seconds.\n",
      "You can set `force_row_wise=true` to remove the overhead.\n",
      "And if memory is not enough, you can set `force_col_wise=true`.\n",
      "[LightGBM] [Warning] Auto-choosing row-wise multi-threading, the overhead of testing was 0.002840 seconds.\n",
      "You can set `force_row_wise=true` to remove the overhead.\n",
      "And if memory is not enough, you can set `force_col_wise=true`.\n",
      "[LightGBM] [Warning] Auto-choosing row-wise multi-threading, the overhead of testing was 0.002763 seconds.\n",
      "You can set `force_row_wise=true` to remove the overhead.\n",
      "And if memory is not enough, you can set `force_col_wise=true`.\n",
      "[LightGBM] [Warning] Auto-choosing row-wise multi-threading, the overhead of testing was 0.002956 seconds.\n",
      "You can set `force_row_wise=true` to remove the overhead.\n",
      "And if memory is not enough, you can set `force_col_wise=true`.\n",
      "[LightGBM] [Warning] Auto-choosing row-wise multi-threading, the overhead of testing was 0.002573 seconds.\n",
      "You can set `force_row_wise=true` to remove the overhead.\n",
      "And if memory is not enough, you can set `force_col_wise=true`.\n",
      "[LightGBM] [Warning] Auto-choosing row-wise multi-threading, the overhead of testing was 0.002833 seconds.\n",
      "You can set `force_row_wise=true` to remove the overhead.\n",
      "And if memory is not enough, you can set `force_col_wise=true`.\n",
      "[LightGBM] [Warning] Auto-choosing row-wise multi-threading, the overhead of testing was 0.002941 seconds.\n",
      "You can set `force_row_wise=true` to remove the overhead.\n",
      "And if memory is not enough, you can set `force_col_wise=true`.\n"
     ]
    },
    {
     "name": "stdout",
     "output_type": "stream",
     "text": [
      "[LightGBM] [Warning] Auto-choosing row-wise multi-threading, the overhead of testing was 0.002938 seconds.\n",
      "You can set `force_row_wise=true` to remove the overhead.\n",
      "And if memory is not enough, you can set `force_col_wise=true`.\n",
      "[LightGBM] [Warning] Auto-choosing row-wise multi-threading, the overhead of testing was 0.002723 seconds.\n",
      "You can set `force_row_wise=true` to remove the overhead.\n",
      "And if memory is not enough, you can set `force_col_wise=true`.\n",
      "[LightGBM] [Warning] Auto-choosing row-wise multi-threading, the overhead of testing was 0.003087 seconds.\n",
      "You can set `force_row_wise=true` to remove the overhead.\n",
      "And if memory is not enough, you can set `force_col_wise=true`.\n",
      "[LightGBM] [Warning] Auto-choosing row-wise multi-threading, the overhead of testing was 0.002748 seconds.\n",
      "You can set `force_row_wise=true` to remove the overhead.\n",
      "And if memory is not enough, you can set `force_col_wise=true`.\n",
      "[LightGBM] [Warning] Auto-choosing row-wise multi-threading, the overhead of testing was 0.002780 seconds.\n",
      "You can set `force_row_wise=true` to remove the overhead.\n",
      "And if memory is not enough, you can set `force_col_wise=true`.\n",
      "[LightGBM] [Warning] Auto-choosing row-wise multi-threading, the overhead of testing was 0.002756 seconds.\n",
      "You can set `force_row_wise=true` to remove the overhead.\n",
      "And if memory is not enough, you can set `force_col_wise=true`.\n",
      "[LightGBM] [Warning] Auto-choosing row-wise multi-threading, the overhead of testing was 0.002873 seconds.\n",
      "You can set `force_row_wise=true` to remove the overhead.\n",
      "And if memory is not enough, you can set `force_col_wise=true`.\n",
      "[LightGBM] [Warning] Auto-choosing row-wise multi-threading, the overhead of testing was 0.003271 seconds.\n",
      "You can set `force_row_wise=true` to remove the overhead.\n",
      "And if memory is not enough, you can set `force_col_wise=true`.\n",
      "[LightGBM] [Warning] Auto-choosing row-wise multi-threading, the overhead of testing was 0.002833 seconds.\n",
      "You can set `force_row_wise=true` to remove the overhead.\n",
      "And if memory is not enough, you can set `force_col_wise=true`.\n",
      "[LightGBM] [Warning] Auto-choosing row-wise multi-threading, the overhead of testing was 0.003329 seconds.\n",
      "You can set `force_row_wise=true` to remove the overhead.\n",
      "And if memory is not enough, you can set `force_col_wise=true`.\n",
      "[LightGBM] [Warning] Auto-choosing row-wise multi-threading, the overhead of testing was 0.002647 seconds.\n",
      "You can set `force_row_wise=true` to remove the overhead.\n",
      "And if memory is not enough, you can set `force_col_wise=true`.\n",
      "[LightGBM] [Warning] Auto-choosing row-wise multi-threading, the overhead of testing was 0.002948 seconds.\n",
      "You can set `force_row_wise=true` to remove the overhead.\n",
      "And if memory is not enough, you can set `force_col_wise=true`.\n",
      "[LightGBM] [Warning] Auto-choosing row-wise multi-threading, the overhead of testing was 0.003314 seconds.\n",
      "You can set `force_row_wise=true` to remove the overhead.\n",
      "And if memory is not enough, you can set `force_col_wise=true`.\n",
      "[LightGBM] [Warning] Auto-choosing row-wise multi-threading, the overhead of testing was 0.003044 seconds.\n",
      "You can set `force_row_wise=true` to remove the overhead.\n",
      "And if memory is not enough, you can set `force_col_wise=true`.\n",
      "[LightGBM] [Warning] Auto-choosing row-wise multi-threading, the overhead of testing was 0.003936 seconds.\n",
      "You can set `force_row_wise=true` to remove the overhead.\n",
      "And if memory is not enough, you can set `force_col_wise=true`.\n",
      "[LightGBM] [Warning] Auto-choosing row-wise multi-threading, the overhead of testing was 0.002752 seconds.\n",
      "You can set `force_row_wise=true` to remove the overhead.\n",
      "And if memory is not enough, you can set `force_col_wise=true`.\n",
      "[LightGBM] [Warning] Auto-choosing row-wise multi-threading, the overhead of testing was 0.002747 seconds.\n",
      "You can set `force_row_wise=true` to remove the overhead.\n",
      "And if memory is not enough, you can set `force_col_wise=true`.\n",
      "[LightGBM] [Warning] Auto-choosing row-wise multi-threading, the overhead of testing was 0.002875 seconds.\n",
      "You can set `force_row_wise=true` to remove the overhead.\n",
      "And if memory is not enough, you can set `force_col_wise=true`.\n",
      "[LightGBM] [Warning] Auto-choosing row-wise multi-threading, the overhead of testing was 0.002725 seconds.\n",
      "You can set `force_row_wise=true` to remove the overhead.\n",
      "And if memory is not enough, you can set `force_col_wise=true`.\n",
      "[LightGBM] [Warning] Auto-choosing row-wise multi-threading, the overhead of testing was 0.003006 seconds.\n",
      "You can set `force_row_wise=true` to remove the overhead.\n",
      "And if memory is not enough, you can set `force_col_wise=true`.\n",
      "[LightGBM] [Warning] Auto-choosing row-wise multi-threading, the overhead of testing was 0.003122 seconds.\n",
      "You can set `force_row_wise=true` to remove the overhead.\n",
      "And if memory is not enough, you can set `force_col_wise=true`.\n",
      "[LightGBM] [Warning] Auto-choosing row-wise multi-threading, the overhead of testing was 0.002879 seconds.\n",
      "You can set `force_row_wise=true` to remove the overhead.\n",
      "And if memory is not enough, you can set `force_col_wise=true`.\n",
      "[LightGBM] [Warning] Auto-choosing row-wise multi-threading, the overhead of testing was 0.002946 seconds.\n",
      "You can set `force_row_wise=true` to remove the overhead.\n",
      "And if memory is not enough, you can set `force_col_wise=true`.\n",
      "[LightGBM] [Warning] Auto-choosing row-wise multi-threading, the overhead of testing was 0.003248 seconds.\n",
      "You can set `force_row_wise=true` to remove the overhead.\n",
      "And if memory is not enough, you can set `force_col_wise=true`.\n",
      "[LightGBM] [Warning] Auto-choosing row-wise multi-threading, the overhead of testing was 0.003172 seconds.\n",
      "You can set `force_row_wise=true` to remove the overhead.\n",
      "And if memory is not enough, you can set `force_col_wise=true`.\n",
      "[LightGBM] [Warning] Auto-choosing row-wise multi-threading, the overhead of testing was 0.003055 seconds.\n",
      "You can set `force_row_wise=true` to remove the overhead.\n",
      "And if memory is not enough, you can set `force_col_wise=true`.\n",
      "[LightGBM] [Warning] Auto-choosing row-wise multi-threading, the overhead of testing was 0.002566 seconds.\n",
      "You can set `force_row_wise=true` to remove the overhead.\n",
      "And if memory is not enough, you can set `force_col_wise=true`.\n",
      "[LightGBM] [Warning] Auto-choosing row-wise multi-threading, the overhead of testing was 0.005076 seconds.\n",
      "You can set `force_row_wise=true` to remove the overhead.\n",
      "And if memory is not enough, you can set `force_col_wise=true`.\n",
      "CPU times: total: 7min 42s\n",
      "Wall time: 1min 27s\n"
     ]
    },
    {
     "data": {
      "text/plain": [
       "{'gbm__learning_rate': 0.1778279410038923,\n",
       " 'gbm__n_estimators': 60,\n",
       " 'gbm__num_leaves': 40}"
      ]
     },
     "execution_count": 51,
     "metadata": {},
     "output_type": "execute_result"
    }
   ],
   "source": [
    "%%time\n",
    "\n",
    "gbm = LGBMRegressor(boosting_type='gbdt', verbose=0, seed=RANDOM_STATE)\n",
    "pipe = Pipeline(steps=[(\"transformer\", getTransformer()), (\"gbm\", gbm)])\n",
    "gbm_params = {\n",
    "    'gbm__learning_rate': np.logspace(-3, 0, 5),\n",
    "    'gbm__n_estimators': range(20, 61, 20),\n",
    "    'gbm__num_leaves': range(20, 41, 10)\n",
    "}\n",
    "\n",
    "grid_gbm = GridSearchCV(pipe, gbm_params, cv=3, scoring='neg_mean_squared_error')\n",
    "grid_gbm.fit(features_train, target_train);\n",
    "\n",
    "grid_gbm.best_params_\n",
    "\n",
    "# Для отладки - {'learning_rate': 0.1778279410038923, 'n_estimators': 60, 'num_leaves': 40}"
   ]
  },
  {
   "cell_type": "code",
   "execution_count": 52,
   "metadata": {},
   "outputs": [
    {
     "name": "stdout",
     "output_type": "stream",
     "text": [
      "[LightGBM] [Warning] Auto-choosing row-wise multi-threading, the overhead of testing was 0.004370 seconds.\n",
      "You can set `force_row_wise=true` to remove the overhead.\n",
      "And if memory is not enough, you can set `force_col_wise=true`.\n"
     ]
    }
   ],
   "source": [
    "# Посмотрим, что получилось в итоге\n",
    "model_gbm = grid_gbm.best_estimator_\n",
    "model_gbm_helper = ModelHelper('LightGBM', model_gbm)\n",
    "model_gbm_helper.fit(features_train, target_train)\n",
    "model_gbm_helper.predict(features_val, target_val)\n",
    "result.append(model_gbm_helper.getResult())"
   ]
  },
  {
   "cell_type": "markdown",
   "metadata": {},
   "source": [
    "<b>CatBoost</b>"
   ]
  },
  {
   "cell_type": "code",
   "execution_count": 53,
   "metadata": {},
   "outputs": [
    {
     "name": "stdout",
     "output_type": "stream",
     "text": [
      "CPU times: total: 5min 24s\n",
      "Wall time: 1min 43s\n"
     ]
    },
    {
     "data": {
      "text/plain": [
       "{'cat__depth': 9, 'cat__iterations': 40, 'cat__learning_rate': 1.0}"
      ]
     },
     "execution_count": 53,
     "metadata": {},
     "output_type": "execute_result"
    }
   ],
   "source": [
    "%%time\n",
    "\n",
    "cbr = CatBoostRegressor(loss_function='RMSE',silent=True, random_seed=RANDOM_STATE)\n",
    "pipe = Pipeline(steps=[(\"transformer\", getTransformer()), (\"cat\", cbr)])\n",
    "cbr_params = {\n",
    "    'cat__learning_rate': np.logspace(-3, 0, 5),\n",
    "    'cat__iterations': range(20, 60, 20),\n",
    "    'cat__depth': range(5,10,2)\n",
    "}\n",
    "\n",
    "grid_cbr = GridSearchCV(pipe, cbr_params, cv=3, scoring='neg_mean_squared_error')\n",
    "grid_cbr.fit(features_train, target_train);\n",
    "\n",
    "grid_cbr.best_params_\n",
    "\n",
    "#  Для отладки: {'depth': 9, 'iterations': 40, 'learning_rate': 1.0}"
   ]
  },
  {
   "cell_type": "code",
   "execution_count": 54,
   "metadata": {},
   "outputs": [],
   "source": [
    "# Посмотрим, что получилось в итоге\n",
    "model_cbr = grid_cbr.best_estimator_\n",
    "model_cbr_helper = ModelHelper('CatBoost', model_cbr)\n",
    "model_cbr_helper.fit(features_train, target_train)\n",
    "model_cbr_helper.predict(features_val, target_val)\n",
    "result.append(model_cbr_helper.getResult())"
   ]
  },
  {
   "cell_type": "markdown",
   "metadata": {},
   "source": [
    "## Анализ моделей"
   ]
  },
  {
   "cell_type": "code",
   "execution_count": 55,
   "metadata": {},
   "outputs": [
    {
     "name": "stdout",
     "output_type": "stream",
     "text": [
      "|              Модель|    Время обучения|Время предсказания|        RMSE|\n",
      "|       Random forest|           9.45873|           0.12564|  2146.30483|\n",
      "|   Linear regression|           3.29961|           0.08580|  3090.64491|\n",
      "|            LightGBM|           0.75697|           0.18750|  1686.63151|\n",
      "|            CatBoost|           1.76743|           0.13196|  1697.96215|\n"
     ]
    }
   ],
   "source": [
    "# Посмотрим, что в итоге получилось\n",
    "print_result(result)"
   ]
  },
  {
   "cell_type": "markdown",
   "metadata": {},
   "source": [
    "Почти равные показатели качества оказались у LightGBM рассмотрим ее поведение на тестовой выборке"
   ]
  },
  {
   "cell_type": "code",
   "execution_count": 56,
   "metadata": {},
   "outputs": [
    {
     "name": "stdout",
     "output_type": "stream",
     "text": [
      "|              Модель|    Время обучения|Время предсказания|        RMSE|\n",
      "|            LightGBM|           0.75697|           0.15259|  1699.12197|\n"
     ]
    }
   ],
   "source": [
    "model_gbm_helper.predict(features_test, target_test)\n",
    "print_result([model_gbm_helper.getResult()])"
   ]
  },
  {
   "cell_type": "markdown",
   "metadata": {},
   "source": [
    "<div class=\"alert alert-block alert-danger\">\n",
    "<h2> Комментарий ревьюера 2 итерация<a class=\"tocSkip\"> </h2>\n",
    "\n",
    "<b>На доработку🤔:</b>\n",
    "\n",
    "Тестирование мы проводим лишь на одной лучшей модели. Лучшую модель мы выбираем только на валидационной выборке (или кросс-валидационной0"
   ]
  },
  {
   "cell_type": "markdown",
   "metadata": {},
   "source": [
    "Исправлено"
   ]
  },
  {
   "cell_type": "markdown",
   "metadata": {},
   "source": [
    "<b>Общий вывод</b>\n",
    "\n",
    "Подведем итоги. Исходя из условий задачи, заказчику важны:\n",
    "\n",
    "1. качество предсказания;\n",
    "2. скорость предсказания;\n",
    "3. время обучения.\n",
    "\n",
    "По двум из трех показателей выиграла модель LightGBM. Не смотря на последнее место по скорости предсказания, она превзошла все остальные модели по корню из среднеквадратической ошибки, а также времени обучения, это делает ее более предпочтительной по сравнению с остальными моделями.\n",
    "\n",
    "Линейные же модели обладают лучше скоростью предсказания, но плохим качеством и очень долго учатся, а значит не подходят для нашей задачи."
   ]
  },
  {
   "cell_type": "markdown",
   "metadata": {},
   "source": [
    "<div class=\"alert alert-success\">\n",
    "<h2> Комментарий ревьюера <a class=\"tocSkip\"> </h2>\n",
    "\n",
    "<b>Все отлично!👍:</b> \n",
    "    \n",
    "Хорошая логика, осталось её так же применить на новые данные."
   ]
  },
  {
   "cell_type": "markdown",
   "metadata": {},
   "source": [
    "<div style=\"border:solid Chocolate 2px; padding: 40px\">\n",
    "\n",
    "**Общий вывод по проекту (комментарий ревьера)**\n",
    "\n",
    "Спасибо за твой проект! Есть несколько моментов, помеченных красным, которые стоит исправить. Если хочешь получить ещё больше опыта - попробуй воспользоваться частью советов из желтых комментариев. В целом, логика проекта верна, так что уверен, что тебе не составит труда исправить все остальное.\n",
    "\n",
    "**Отмечу отдельные положительные моменты проекта🙂**:\n",
    "\n",
    "* Обоснование решений\n",
    "* Неплохая структура\n",
    "\n",
    "\n",
    "**На что стоит обратить внимание🤓**:\n",
    "\n",
    "* Тестовая выборка используется лишь в конце для финального тестирования\n",
    "* Кросс-валидация без пайпланов со скейлингом означает утечку. Скейлер так же нельзя обучать на всех данных - только тренировочных.\n",
    "* Остальные рекомендации ты найдешь в моих комментариях!\n",
    "\n",
    "\n",
    "**Желаю удачи и жду твой проект на повторное ревью!**😉\n"
   ]
  },
  {
   "cell_type": "markdown",
   "metadata": {},
   "source": [
    "## Чек-лист проверки"
   ]
  },
  {
   "cell_type": "markdown",
   "metadata": {},
   "source": [
    "Поставьте 'x' в выполненных пунктах. Далее нажмите Shift+Enter."
   ]
  },
  {
   "cell_type": "markdown",
   "metadata": {},
   "source": [
    "- [x]  Jupyter Notebook открыт\n",
    "- [x]  Весь код выполняется без ошибок\n",
    "- [x]  Ячейки с кодом расположены в порядке исполнения\n",
    "- [x]  Выполнена загрузка и подготовка данных\n",
    "- [x]  Выполнено обучение моделей\n",
    "- [x]  Есть анализ скорости работы и качества моделей"
   ]
  },
  {
   "cell_type": "code",
   "execution_count": null,
   "metadata": {},
   "outputs": [],
   "source": []
  }
 ],
 "metadata": {
  "ExecuteTimeLog": [
   {
    "duration": 1490,
    "start_time": "2022-06-22T16:55:39.595Z"
   },
   {
    "duration": 1101,
    "start_time": "2022-06-22T16:55:50.947Z"
   },
   {
    "duration": 110,
    "start_time": "2022-06-22T16:57:18.665Z"
   },
   {
    "duration": 92,
    "start_time": "2022-06-22T16:57:31.048Z"
   },
   {
    "duration": 8,
    "start_time": "2022-06-22T16:59:46.174Z"
   },
   {
    "duration": 186,
    "start_time": "2022-06-22T17:00:54.095Z"
   },
   {
    "duration": 15,
    "start_time": "2022-06-22T17:01:08.676Z"
   },
   {
    "duration": 4,
    "start_time": "2022-06-22T17:02:33.612Z"
   },
   {
    "duration": 8,
    "start_time": "2022-06-22T17:02:45.820Z"
   },
   {
    "duration": 18,
    "start_time": "2022-06-22T17:02:57.356Z"
   },
   {
    "duration": 21,
    "start_time": "2022-06-22T17:04:02.619Z"
   },
   {
    "duration": 6,
    "start_time": "2022-06-22T17:04:14.379Z"
   },
   {
    "duration": 14,
    "start_time": "2022-06-22T17:04:26.251Z"
   },
   {
    "duration": 1281,
    "start_time": "2022-06-22T17:07:48.098Z"
   },
   {
    "duration": 802,
    "start_time": "2022-06-22T17:07:50.122Z"
   },
   {
    "duration": 94,
    "start_time": "2022-06-22T17:07:53.865Z"
   },
   {
    "duration": 84,
    "start_time": "2022-06-22T17:07:54.984Z"
   },
   {
    "duration": 7,
    "start_time": "2022-06-22T17:07:56.823Z"
   },
   {
    "duration": 189,
    "start_time": "2022-06-22T17:07:58.696Z"
   },
   {
    "duration": 14,
    "start_time": "2022-06-22T17:08:00.114Z"
   },
   {
    "duration": 4,
    "start_time": "2022-06-22T17:08:02.288Z"
   },
   {
    "duration": 7,
    "start_time": "2022-06-22T17:08:02.967Z"
   },
   {
    "duration": 16,
    "start_time": "2022-06-22T17:08:03.776Z"
   },
   {
    "duration": 23,
    "start_time": "2022-06-22T17:08:07.234Z"
   },
   {
    "duration": 6,
    "start_time": "2022-06-22T17:08:08.464Z"
   },
   {
    "duration": 14,
    "start_time": "2022-06-22T17:08:12.497Z"
   },
   {
    "duration": 1472,
    "start_time": "2022-06-22T17:12:30.356Z"
   },
   {
    "duration": 819,
    "start_time": "2022-06-22T17:12:31.830Z"
   },
   {
    "duration": 82,
    "start_time": "2022-06-22T17:12:33.700Z"
   },
   {
    "duration": 82,
    "start_time": "2022-06-22T17:12:34.612Z"
   },
   {
    "duration": 7,
    "start_time": "2022-06-22T17:12:36.428Z"
   },
   {
    "duration": 225,
    "start_time": "2022-06-22T17:12:37.901Z"
   },
   {
    "duration": 18,
    "start_time": "2022-06-22T17:12:39.006Z"
   },
   {
    "duration": 5,
    "start_time": "2022-06-22T17:12:40.677Z"
   },
   {
    "duration": 7,
    "start_time": "2022-06-22T17:12:41.284Z"
   },
   {
    "duration": 17,
    "start_time": "2022-06-22T17:12:42.268Z"
   },
   {
    "duration": 21,
    "start_time": "2022-06-22T17:12:46.237Z"
   },
   {
    "duration": 6,
    "start_time": "2022-06-22T17:12:49.141Z"
   },
   {
    "duration": 14,
    "start_time": "2022-06-22T17:12:50.188Z"
   },
   {
    "duration": 6034,
    "start_time": "2022-06-23T14:44:57.048Z"
   },
   {
    "duration": 5524,
    "start_time": "2022-06-23T14:45:03.142Z"
   },
   {
    "duration": 599,
    "start_time": "2022-06-23T14:45:08.675Z"
   },
   {
    "duration": 490,
    "start_time": "2022-06-23T14:45:09.279Z"
   },
   {
    "duration": 181,
    "start_time": "2022-06-23T14:45:09.772Z"
   },
   {
    "duration": 1286,
    "start_time": "2022-06-23T14:45:09.964Z"
   },
   {
    "duration": 99,
    "start_time": "2022-06-23T14:45:11.253Z"
   },
   {
    "duration": 187,
    "start_time": "2022-06-23T14:45:11.354Z"
   },
   {
    "duration": 207,
    "start_time": "2022-06-23T14:45:11.543Z"
   },
   {
    "duration": 211,
    "start_time": "2022-06-23T14:45:11.754Z"
   },
   {
    "duration": 103,
    "start_time": "2022-06-23T14:45:11.972Z"
   },
   {
    "duration": 101,
    "start_time": "2022-06-23T14:45:12.149Z"
   },
   {
    "duration": 176,
    "start_time": "2022-06-23T14:45:12.265Z"
   },
   {
    "duration": 1564208,
    "start_time": "2022-06-23T14:45:12.445Z"
   },
   {
    "duration": 0,
    "start_time": "2022-06-23T15:11:16.670Z"
   },
   {
    "duration": 0,
    "start_time": "2022-06-23T15:11:16.673Z"
   },
   {
    "duration": 0,
    "start_time": "2022-06-23T15:11:16.680Z"
   },
   {
    "duration": 0,
    "start_time": "2022-06-23T15:11:16.682Z"
   },
   {
    "duration": 1,
    "start_time": "2022-06-23T15:11:16.683Z"
   },
   {
    "duration": 0,
    "start_time": "2022-06-23T15:11:16.685Z"
   },
   {
    "duration": 0,
    "start_time": "2022-06-23T15:11:16.686Z"
   },
   {
    "duration": 0,
    "start_time": "2022-06-23T15:11:16.745Z"
   },
   {
    "duration": 0,
    "start_time": "2022-06-23T15:11:16.749Z"
   },
   {
    "duration": 0,
    "start_time": "2022-06-23T15:11:16.751Z"
   },
   {
    "duration": 0,
    "start_time": "2022-06-23T15:11:16.756Z"
   },
   {
    "duration": 0,
    "start_time": "2022-06-23T15:11:16.760Z"
   },
   {
    "duration": 0,
    "start_time": "2022-06-23T15:11:16.767Z"
   },
   {
    "duration": 0,
    "start_time": "2022-06-23T15:11:16.773Z"
   },
   {
    "duration": 0,
    "start_time": "2022-06-23T15:11:16.774Z"
   },
   {
    "duration": 0,
    "start_time": "2022-06-23T15:11:16.775Z"
   },
   {
    "duration": 0,
    "start_time": "2022-06-23T15:11:16.779Z"
   },
   {
    "duration": 0,
    "start_time": "2022-06-23T15:11:16.782Z"
   },
   {
    "duration": 0,
    "start_time": "2022-06-23T15:11:16.784Z"
   },
   {
    "duration": 0,
    "start_time": "2022-06-23T15:11:16.785Z"
   },
   {
    "duration": 0,
    "start_time": "2022-06-23T15:11:16.842Z"
   },
   {
    "duration": 0,
    "start_time": "2022-06-23T15:11:16.849Z"
   },
   {
    "duration": 0,
    "start_time": "2022-06-23T15:11:16.860Z"
   },
   {
    "duration": 0,
    "start_time": "2022-06-23T15:11:16.865Z"
   },
   {
    "duration": 0,
    "start_time": "2022-06-23T15:11:16.867Z"
   },
   {
    "duration": 0,
    "start_time": "2022-06-23T15:11:16.876Z"
   },
   {
    "duration": 0,
    "start_time": "2022-06-23T15:11:16.878Z"
   },
   {
    "duration": 0,
    "start_time": "2022-06-23T15:11:16.879Z"
   },
   {
    "duration": 0,
    "start_time": "2022-06-23T15:11:16.881Z"
   },
   {
    "duration": 0,
    "start_time": "2022-06-23T15:11:16.884Z"
   },
   {
    "duration": 0,
    "start_time": "2022-06-23T15:11:16.888Z"
   },
   {
    "duration": 0,
    "start_time": "2022-06-23T15:11:16.942Z"
   },
   {
    "duration": 0,
    "start_time": "2022-06-23T15:11:16.944Z"
   },
   {
    "duration": 0,
    "start_time": "2022-06-23T15:11:16.947Z"
   },
   {
    "duration": 0,
    "start_time": "2022-06-23T15:11:16.948Z"
   },
   {
    "duration": 0,
    "start_time": "2022-06-23T15:11:16.949Z"
   },
   {
    "duration": 0,
    "start_time": "2022-06-23T15:11:16.951Z"
   },
   {
    "duration": 128,
    "start_time": "2022-06-23T15:12:38.520Z"
   },
   {
    "duration": 11,
    "start_time": "2022-06-23T15:12:53.513Z"
   },
   {
    "duration": 3339,
    "start_time": "2022-06-23T15:12:53.919Z"
   },
   {
    "duration": 180,
    "start_time": "2022-06-23T15:12:57.265Z"
   },
   {
    "duration": 304,
    "start_time": "2022-06-23T15:12:57.451Z"
   },
   {
    "duration": 18,
    "start_time": "2022-06-23T15:12:57.758Z"
   },
   {
    "duration": 601,
    "start_time": "2022-06-23T15:12:57.779Z"
   },
   {
    "duration": 84,
    "start_time": "2022-06-23T15:12:58.383Z"
   },
   {
    "duration": 17,
    "start_time": "2022-06-23T15:12:58.469Z"
   },
   {
    "duration": 17,
    "start_time": "2022-06-23T15:12:58.543Z"
   },
   {
    "duration": 89,
    "start_time": "2022-06-23T15:12:58.566Z"
   },
   {
    "duration": 93,
    "start_time": "2022-06-23T15:12:58.663Z"
   },
   {
    "duration": 17,
    "start_time": "2022-06-23T15:13:01.148Z"
   },
   {
    "duration": 103,
    "start_time": "2022-06-23T15:13:01.343Z"
   },
   {
    "duration": 223,
    "start_time": "2022-06-23T15:13:02.046Z"
   },
   {
    "duration": 101,
    "start_time": "2022-06-23T15:13:15.051Z"
   },
   {
    "duration": 233,
    "start_time": "2022-06-23T15:13:31.044Z"
   },
   {
    "duration": 419,
    "start_time": "2022-06-23T15:14:07.645Z"
   }
  ],
  "kernelspec": {
   "display_name": "Python 3 (ipykernel)",
   "language": "python",
   "name": "python3"
  },
  "language_info": {
   "codemirror_mode": {
    "name": "ipython",
    "version": 3
   },
   "file_extension": ".py",
   "mimetype": "text/x-python",
   "name": "python",
   "nbconvert_exporter": "python",
   "pygments_lexer": "ipython3",
   "version": "3.10.4"
  },
  "toc": {
   "base_numbering": 1,
   "nav_menu": {},
   "number_sections": true,
   "sideBar": true,
   "skip_h1_title": true,
   "title_cell": "Table of Contents",
   "title_sidebar": "Contents",
   "toc_cell": false,
   "toc_position": {},
   "toc_section_display": true,
   "toc_window_display": false
  }
 },
 "nbformat": 4,
 "nbformat_minor": 2
}
