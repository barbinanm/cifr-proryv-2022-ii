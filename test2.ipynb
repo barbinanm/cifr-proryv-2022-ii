{
  "metadata": {
    "language_info": {
      "codemirror_mode": {
        "name": "python",
        "version": 3
      },
      "file_extension": ".py",
      "mimetype": "text/x-python",
      "name": "python",
      "nbconvert_exporter": "python",
      "pygments_lexer": "ipython3",
      "version": "3.8"
    },
    "kernelspec": {
      "name": "python",
      "display_name": "Python (Pyodide)",
      "language": "python"
    }
  },
  "nbformat_minor": 4,
  "nbformat": 4,
  "cells": [
    {
      "cell_type": "code",
      "source": "import pandas as pd\nimport numpy as np\nimport seaborn as sns\nimport matplotlib.pyplot as plt\nfrom sklearn.model_selection import train_test_split\nfrom sklearn.ensemble import RandomForestClassifier\n\n%matplotlib inline",
      "metadata": {},
      "execution_count": null,
      "outputs": []
    },
    {
      "cell_type": "code",
      "source": "train = pd.read_csv('train_dataset_train.csv')",
      "metadata": {},
      "execution_count": null,
      "outputs": []
    },
    {
      "cell_type": "markdown",
      "source": "<b>Посмотрим на тергеты<b><br>\n    <b>Тематика</b>",
      "metadata": {}
    },
    {
      "cell_type": "code",
      "source": "train[\"Тематика\"].value_counts()",
      "metadata": {},
      "execution_count": null,
      "outputs": []
    },
    {
      "cell_type": "code",
      "source": "train[\"Тематика\"].value_counts().hist()",
      "metadata": {},
      "execution_count": null,
      "outputs": []
    },
    {
      "cell_type": "markdown",
      "source": "<b>Категория</b>",
      "metadata": {}
    },
    {
      "cell_type": "code",
      "source": "train[\"Категория\"].value_counts()",
      "metadata": {},
      "execution_count": null,
      "outputs": []
    },
    {
      "cell_type": "markdown",
      "source": "<b>Ответственное лицо</b>",
      "metadata": {}
    },
    {
      "cell_type": "code",
      "source": "train[\"Ответственное лицо\"].value_counts()",
      "metadata": {},
      "execution_count": null,
      "outputs": []
    },
    {
      "cell_type": "markdown",
      "source": "<b>Связь тематики и категории</b>",
      "metadata": {}
    },
    {
      "cell_type": "code",
      "source": "t = train.groupby([\"Тематика\", \"Категория\"])[\"id\"].count().reset_index()\nt['id'] = np.ones(t.shape[0])\ncat_topic_links = t.pivot(columns = \"Категория\", index=\"Тематика\", values=\"id\").fillna(0)\nt.to_excel(\"cat_topic.xlsx\")\n# каждая тема отнесена к одной из категорий\n(cat_topic_links.sum(axis=1)>1).mean()",
      "metadata": {},
      "execution_count": null,
      "outputs": []
    },
    {
      "cell_type": "markdown",
      "source": "<b>Связь категории и ответственного лица</b>",
      "metadata": {
        "tags": []
      }
    },
    {
      "cell_type": "code",
      "source": "t2 = train.groupby([\"Ответственное лицо\", \"Категория\"])[\"id\"].count().reset_index()\nt2['id'] = np.ones(t2.shape[0])\ncat_rel_links = t2.pivot(columns = \"Категория\", index=\"Ответственное лицо\", values=\"id\").fillna(0)\ncat_rel_links.shape",
      "metadata": {},
      "execution_count": null,
      "outputs": []
    },
    {
      "cell_type": "code",
      "source": "cat_rel_links.to_excel(\"cat_rel_links.xlsx\")\ncat_rel_links",
      "metadata": {},
      "execution_count": null,
      "outputs": []
    },
    {
      "cell_type": "code",
      "source": "<b>Посмотрим, какой мусор есть в сообщениях</b>",
      "metadata": {},
      "execution_count": null,
      "outputs": []
    },
    {
      "cell_type": "code",
      "source": "train[\"Текст Сообщения\"][5]",
      "metadata": {},
      "execution_count": null,
      "outputs": []
    },
    {
      "cell_type": "code",
      "source": "train.iloc[4]",
      "metadata": {},
      "execution_count": null,
      "outputs": []
    },
    {
      "cell_type": "markdown",
      "source": "<b>Предобработка текстов</b><br>\n<b>Убираю HTML</b>",
      "metadata": {}
    },
    {
      "cell_type": "code",
      "source": "import re\nCLEANR = re.compile('<.*?>|&([a-z0-9]+|#[0-9]{1,6}|#x[0-9a-f]{1,6});')\nSPACER = re.compile('\\s+')\n\ndef cleanhtml(raw_html):\n  cleantext = re.sub(CLEANR, ' ', raw_html)\n  cleantext = re.sub(SPACER, ' ', cleantext)\n  return cleantext\ntrain[\"text\"] = train[\"Текст Сообщения\"].apply(cleanhtml)",
      "metadata": {},
      "execution_count": null,
      "outputs": []
    },
    {
      "cell_type": "markdown",
      "source": "<b>Поиск адреса в сообщении<b>",
      "metadata": {}
    },
    {
      "cell_type": "code",
      "source": "",
      "metadata": {},
      "execution_count": null,
      "outputs": []
    },
    {
      "cell_type": "markdown",
      "source": "<b>stemming</b>",
      "metadata": {}
    },
    {
      "cell_type": "code",
      "source": "from nltk.stem.snowball import SnowballStemmer\nstemmer = SnowballStemmer(\"russian\")\n\ndef stemtext(input_text):\n  words = input_text.split(\" \")\n  return ' '.join([stemmer.stem(w) for w in words])\ntrain.text = train.text.apply(stemtext)",
      "metadata": {},
      "execution_count": null,
      "outputs": []
    },
    {
      "cell_type": "markdown",
      "source": "<b>Lemmatisation</b>",
      "metadata": {}
    },
    {
      "cell_type": "code",
      "source": "",
      "metadata": {},
      "execution_count": null,
      "outputs": []
    },
    {
      "cell_type": "code",
      "source": "<b>Предскажем тематику по тексту<b><br>\n<b>TF-IDF</b>",
      "metadata": {},
      "execution_count": null,
      "outputs": []
    },
    {
      "cell_type": "code",
      "source": "from sklearn.feature_extraction.text import TfidfVectorizer\ntd = TfidfVectorizer(max_features = 4500)\n#X = td.fit_transform(X).toarray()",
      "metadata": {},
      "execution_count": null,
      "outputs": []
    },
    {
      "cell_type": "code",
      "source": "td = td.fit(train.text)",
      "metadata": {},
      "execution_count": null,
      "outputs": []
    },
    {
      "cell_type": "code",
      "source": "train_X = td.transform(train.text).toarray()",
      "metadata": {},
      "execution_count": null,
      "outputs": []
    },
    {
      "cell_type": "code",
      "source": "train_y = train['Категория']",
      "metadata": {},
      "execution_count": null,
      "outputs": []
    },
    {
      "cell_type": "code",
      "source": "from sklearn.linear_model import LogisticRegression\nfrom sklearn.multiclass import OneVsRestClassifier\nclf = OneVsRestClassifier(LogisticRegression(solver='sag'))",
      "metadata": {},
      "execution_count": null,
      "outputs": []
    },
    {
      "cell_type": "code",
      "source": "clf_fitted = clf.fit(train_X, train_y)",
      "metadata": {},
      "execution_count": null,
      "outputs": []
    },
    {
      "cell_type": "code",
      "source": "train_predicted = clf_fitted.predict_proba(train_X)",
      "metadata": {},
      "execution_count": null,
      "outputs": []
    },
    {
      "cell_type": "code",
      "source": "from sklearn.metrics import roc_auc_score",
      "metadata": {},
      "execution_count": null,
      "outputs": []
    },
    {
      "cell_type": "code",
      "source": "roc_auc_score(y_true=train_y, y_score=train_predicted, multi_class='ovo')",
      "metadata": {},
      "execution_count": null,
      "outputs": []
    }
  ]
}