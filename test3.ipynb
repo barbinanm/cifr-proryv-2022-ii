{
  "metadata": {
    "language_info": {
      "codemirror_mode": {
        "name": "python",
        "version": 3
      },
      "file_extension": ".py",
      "mimetype": "text/x-python",
      "name": "python",
      "nbconvert_exporter": "python",
      "pygments_lexer": "ipython3",
      "version": "3.8"
    },
    "kernelspec": {
      "name": "python",
      "display_name": "Python (Pyodide)",
      "language": "python"
    }
  },
  "nbformat_minor": 4,
  "nbformat": 4,
  "cells": [
    {
      "cell_type": "markdown",
      "source": "<b>Загрузим нужные библиотеки</b>",
      "metadata": {}
    },
    {
      "cell_type": "code",
      "source": "import pandas as pd\nimport seaborn as sns\nimport matplotlib.pyplot as plt\nfrom sklearn.model_selection import train_test_split\nfrom sklearn.ensemble import RandomForestClassifier\n\n%matplotlib inline\ndf = pd.read_csv(\"/content/train.csv\")",
      "metadata": {},
      "execution_count": null,
      "outputs": []
    },
    {
      "cell_type": "markdown",
      "source": "<b>Рассмотрим датасет по ближе</b>",
      "metadata": {}
    },
    {
      "cell_type": "code",
      "source": "df.head(3)",
      "metadata": {},
      "execution_count": null,
      "outputs": []
    },
    {
      "cell_type": "code",
      "source": "df.info()",
      "metadata": {},
      "execution_count": null,
      "outputs": []
    },
    {
      "cell_type": "code",
      "source": "df[\"Категория\"].hist(bins = 17)",
      "metadata": {},
      "execution_count": null,
      "outputs": []
    },
    {
      "cell_type": "markdown",
      "source": "Заметен сильный разброс популярности категориий",
      "metadata": {}
    },
    {
      "cell_type": "code",
      "source": "df[\"Ответственное лицо\"].value_counts()",
      "metadata": {},
      "execution_count": null,
      "outputs": []
    },
    {
      "cell_type": "markdown",
      "source": "Сделаем категорию \"Ответственное лицо\" раноговой",
      "metadata": {}
    },
    {
      "cell_type": "code",
      "source": "df[\"Ответственное лицо\"] = pd.Categorical(df[\"Ответственное лицо\"])\ndf[\"Ответственное лицо\"].astype('category').cat.codes\ndf[\"Ответственное лицо\"] = df[\"Ответственное лицо\"].cat.codes",
      "metadata": {},
      "execution_count": null,
      "outputs": []
    },
    {
      "cell_type": "code",
      "source": "sns.countplot(x = \"Ответственное лицо\" , data  = df)",
      "metadata": {},
      "execution_count": null,
      "outputs": []
    },
    {
      "cell_type": "code",
      "source": "sns.jointplot(x = \"Ответственное лицо\", y = 'Категория', data = df, kind = 'reg')",
      "metadata": {},
      "execution_count": null,
      "outputs": []
    },
    {
      "cell_type": "markdown",
      "source": "Кажется нет четкой зависимости между категорией и ответственным лицом города",
      "metadata": {}
    },
    {
      "cell_type": "code",
      "source": "df[\"Тематика\"] = pd.Categorical(df[\"Тематика\"])\ndf[\"Тематика\"].astype('category').cat.codes\ndf[\"Тематика\"] = df[\"Тематика\"].cat.codes",
      "metadata": {
        "trusted": true
      },
      "execution_count": 2,
      "outputs": [
        {
          "ename": "<class 'NameError'>",
          "evalue": "name 'pd' is not defined",
          "traceback": [
            "\u001b[0;31m---------------------------------------------------------------------------\u001b[0m",
            "\u001b[0;31mNameError\u001b[0m                                 Traceback (most recent call last)",
            "Input \u001b[0;32mIn [2]\u001b[0m, in \u001b[0;36m<cell line: 1>\u001b[0;34m()\u001b[0m\n\u001b[0;32m----> 1\u001b[0m df[\u001b[38;5;124m\"\u001b[39m\u001b[38;5;124mТематика\u001b[39m\u001b[38;5;124m\"\u001b[39m] \u001b[38;5;241m=\u001b[39m \u001b[43mpd\u001b[49m\u001b[38;5;241m.\u001b[39mCategorical(df[\u001b[38;5;124m\"\u001b[39m\u001b[38;5;124mТематика\u001b[39m\u001b[38;5;124m\"\u001b[39m])\n\u001b[1;32m      2\u001b[0m df[\u001b[38;5;124m\"\u001b[39m\u001b[38;5;124mТематика\u001b[39m\u001b[38;5;124m\"\u001b[39m]\u001b[38;5;241m.\u001b[39mastype(\u001b[38;5;124m'\u001b[39m\u001b[38;5;124mcategory\u001b[39m\u001b[38;5;124m'\u001b[39m)\u001b[38;5;241m.\u001b[39mcat\u001b[38;5;241m.\u001b[39mcodes\n\u001b[1;32m      3\u001b[0m df[\u001b[38;5;124m\"\u001b[39m\u001b[38;5;124mТематика\u001b[39m\u001b[38;5;124m\"\u001b[39m] \u001b[38;5;241m=\u001b[39m df[\u001b[38;5;124m\"\u001b[39m\u001b[38;5;124mТематика\u001b[39m\u001b[38;5;124m\"\u001b[39m]\u001b[38;5;241m.\u001b[39mcat\u001b[38;5;241m.\u001b[39mcodes\n",
            "\u001b[0;31mNameError\u001b[0m: name 'pd' is not defined"
          ],
          "output_type": "error"
        }
      ]
    },
    {
      "cell_type": "code",
      "source": "Видоизменим категорию \"Тематика\"",
      "metadata": {},
      "execution_count": null,
      "outputs": []
    },
    {
      "cell_type": "code",
      "source": "df[\"Длина Сообщения\"] = df[\"Текст Сообщения\"].str.len()",
      "metadata": {},
      "execution_count": null,
      "outputs": []
    },
    {
      "cell_type": "markdown",
      "source": "Добавим новый столбец в датсет и взглянем на то что у нас получилось",
      "metadata": {}
    },
    {
      "cell_type": "code",
      "source": "df.head(3)",
      "metadata": {},
      "execution_count": null,
      "outputs": []
    },
    {
      "cell_type": "code",
      "source": "plt.rcParams['figure.figsize']=(15,15)\n\ncorr = df.corr()\ng = sns.heatmap(corr, square = True, annot=True)",
      "metadata": {},
      "execution_count": null,
      "outputs": []
    },
    {
      "cell_type": "markdown",
      "source": "<b>Последняя попытка найти явную зависимость в данных<b><br>\n<b>Выделим выборки</b>",
      "metadata": {}
    },
    {
      "cell_type": "code",
      "source": "X = df.drop([\"Категория\", \"Текст Сообщения\", \"id\"], axis = 1)\ny = df[[\"Категория\"]]",
      "metadata": {},
      "execution_count": null,
      "outputs": []
    },
    {
      "cell_type": "code",
      "source": "X_train, X_test, y_train, y_test = train_test_split(X, y, test_size=0.3, random_state=42)",
      "metadata": {},
      "execution_count": null,
      "outputs": []
    },
    {
      "cell_type": "markdown",
      "source": "<b>Обучение модели</b>",
      "metadata": {}
    },
    {
      "cell_type": "code",
      "source": "clf = RandomForestClassifier(random_state=0)",
      "metadata": {},
      "execution_count": null,
      "outputs": []
    },
    {
      "cell_type": "code",
      "source": "clf.fit(X_train, y_train)",
      "metadata": {},
      "execution_count": null,
      "outputs": []
    },
    {
      "cell_type": "markdown",
      "source": "<b>Оценка точности</b>",
      "metadata": {}
    },
    {
      "cell_type": "code",
      "source": "pred = clf.predict(X_test)",
      "metadata": {},
      "execution_count": null,
      "outputs": []
    },
    {
      "cell_type": "code",
      "source": "def one_label_to_many(df, classes = [x for x in range(17)]):\n    y_test = []\n    min_class = min(classes)\n    count_class = len(classes)\n\n    for ll in df:\n        mass = [0]*count_class\n        mass[int(ll) - min_class] = 1\n        y_test.append(mass)\n\n    return y_test",
      "metadata": {},
      "execution_count": null,
      "outputs": []
    },
    {
      "cell_type": "code",
      "source": "y_test[\"Категория\"].value_counts()",
      "metadata": {},
      "execution_count": null,
      "outputs": []
    },
    {
      "cell_type": "code",
      "source": "from sklearn.metrics import roc_auc_score\n\npred_new = one_label_to_many(pred)\ny_test[\"Категория\"].iloc[0] = 12\ny_test[\"Категория\"].iloc[2] = 14 \n\n\nscore = roc_auc_score(y_test[\"Категория\"], pred_new , multi_class='ovo')",
      "metadata": {},
      "execution_count": null,
      "outputs": []
    },
    {
      "cell_type": "code",
      "source": "score",
      "metadata": {},
      "execution_count": null,
      "outputs": []
    },
    {
      "cell_type": "code",
      "source": "",
      "metadata": {},
      "execution_count": null,
      "outputs": []
    },
    {
      "cell_type": "code",
      "source": "",
      "metadata": {},
      "execution_count": null,
      "outputs": []
    }
  ]
}