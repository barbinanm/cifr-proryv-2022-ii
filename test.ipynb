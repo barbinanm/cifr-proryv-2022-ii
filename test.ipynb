{
  "metadata": {
    "language_info": {
      "codemirror_mode": {
        "name": "python",
        "version": 3
      },
      "file_extension": ".py",
      "mimetype": "text/x-python",
      "name": "python",
      "nbconvert_exporter": "python",
      "pygments_lexer": "ipython3",
      "version": "3.8"
    },
    "kernelspec": {
      "name": "python",
      "display_name": "Python (Pyodide)",
      "language": "python"
    }
  },
  "nbformat_minor": 4,
  "nbformat": 4,
  "cells": [
    {
      "cell_type": "code",
      "source": "import pandas as pd\nimport collections\n\n%matplotlib inline",
      "metadata": {},
      "execution_count": null,
      "outputs": []
    },
    {
      "cell_type": "code",
      "source": "df = pd.read_csv('dataset/train_dataset_train.csv')\ntest = pd.read_csv('dataset/test_dataset_test.csv')",
      "metadata": {},
      "execution_count": null,
      "outputs": []
    },
    {
      "cell_type": "code",
      "source": "df.rename(columns={\n    'Тематика': 'theme',\n    'Категория': 'problem_cat'\n}, inplace=True)",
      "metadata": {},
      "execution_count": null,
      "outputs": []
    },
    {
      "cell_type": "code",
      "source": "pred_map = df.groupby(['theme']).agg({'problem_cat': collections.Counter}).reset_index()\npred_map.problem_cat = pred_map.problem_cat.apply(lambda v: v.most_common(1)[0][0])\npred_map",
      "metadata": {},
      "execution_count": null,
      "outputs": []
    },
    {
      "cell_type": "code",
      "source": "test = pd.read_csv(\"test_dataset_test.csv\")\nprint(test.shape)\ntest.rename(columns={\n    'Тематика': 'theme',\n}, inplace=True)\ntest.head(2)",
      "metadata": {},
      "execution_count": null,
      "outputs": []
    },
    {
      "cell_type": "code",
      "source": "test = test.merge(pred_map, how='left', on=['theme'])\ntest.problem_cat = test.problem_cat.fillna(3).astype(int)",
      "metadata": {},
      "execution_count": null,
      "outputs": []
    },
    {
      "cell_type": "code",
      "source": "test.rename(columns={'problem_cat': 'Категория'}, inplace=True)",
      "metadata": {},
      "execution_count": null,
      "outputs": []
    },
    {
      "cell_type": "code",
      "source": "test[['id', 'Категория']].to_csv(\"naive_clean.csv\", index=False)",
      "metadata": {},
      "execution_count": null,
      "outputs": []
    }
  ]
}